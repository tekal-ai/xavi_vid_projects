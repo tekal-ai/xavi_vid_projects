{
 "cells": [
  {
   "cell_type": "code",
   "execution_count": 2,
   "metadata": {},
   "outputs": [],
   "source": [
    "import numpy as np\n",
    "import pandas as pd\n",
    "pd.pandas.set_option('display.max_columns', None)"
   ]
  },
  {
   "cell_type": "code",
   "execution_count": 3,
   "metadata": {},
   "outputs": [],
   "source": [
    "## Sample connection\n",
    "from sqlalchemy import create_engine\n",
    "\n",
    "host = \"creative-analytics-db.csmwsaq07qyi.us-east-1.rds.amazonaws.com\"\n",
    "port = 3306\n",
    "user = \"admin\"\n",
    "password = \"creativeanalytics\"\n",
    "\n",
    "engine = create_engine(f\"mysql://{user}:{password}@{host}:{port}/creative_analytics\")"
   ]
  },
  {
   "cell_type": "code",
   "execution_count": 3,
   "metadata": {},
   "outputs": [],
   "source": [
    "def get_object_spatial_position(bbox):\n",
    "    \"\"\"\n",
    "       Function that returns the spacial position of object\n",
    "\n",
    "               Parameters:\n",
    "                       bbox (list): bounding box\n",
    "\n",
    "               Returns:\n",
    "                       position (str): position value\n",
    "    \"\"\"\n",
    "    # compute center coordinates\n",
    "    x = bbox[0] + (bbox[2] / 2)\n",
    "    y = bbox[1] + (bbox[3] / 2)\n",
    "\n",
    "    left = x < 0.4\n",
    "    center_x = 0.4 <= x <= 0.65\n",
    "    right = x > 0.65\n",
    "    top = y < 0.4\n",
    "    center_y = 0.4 <= y <= 0.65\n",
    "    bottom = y > 0.65\n",
    "\n",
    "    if top and left:\n",
    "        return \"top_left\"\n",
    "    elif top and center_x:\n",
    "        return \"top_center\"\n",
    "    elif top and right:\n",
    "        return \"top_right\"\n",
    "    elif center_y and left:\n",
    "        return \"center_left\"\n",
    "    elif center_y and center_y:\n",
    "        return \"center\"\n",
    "    elif center_y and right:\n",
    "        return \"center_right\"\n",
    "    elif bottom and left:\n",
    "        return \"bottom_left\"\n",
    "    elif bottom and center_x:\n",
    "        return \"bottom_center\"\n",
    "    elif bottom and right:\n",
    "        return \"bottom_right\""
   ]
  },
  {
   "cell_type": "code",
   "execution_count": 4,
   "metadata": {},
   "outputs": [],
   "source": [
    "def get_object_temporal_position(startFrame, endFrame, totalFrame):\n",
    "    ''' \n",
    "    beginning: first 33% of video.\n",
    "    middle: middle 33% of video.\n",
    "    end: last 33% of video.\n",
    "    \n",
    "    '''\n",
    "    start_beg_frame = False\n",
    "    start_mid_frame = False\n",
    "    start_end_frame = False\n",
    "\n",
    "    end_beg_frame = False\n",
    "    end_mid_frame = False\n",
    "    end_end_frame = False\n",
    "\n",
    "    level_1 = 33*totalFrame/100\n",
    "    level_2 = 66*totalFrame/100\n",
    "\n",
    "    if startFrame <= level_1:\n",
    "        start_beg_frame = True\n",
    "    elif startFrame > level_1 and startFrame <= level_2:\n",
    "        start_mid_frame = True\n",
    "    else:\n",
    "        start_end_frame = True\n",
    "\n",
    "    if endFrame <= level_1:\n",
    "        end_beg_frame = True\n",
    "    elif endFrame > level_1 and endFrame <= level_2:\n",
    "        end_mid_frame = True\n",
    "    else:\n",
    "        end_end_frame = True\n",
    "\n",
    "    if start_beg_frame and end_beg_frame:\n",
    "        return \"beginning\"\n",
    "    elif start_mid_frame and end_mid_frame:\n",
    "        return \"middle\"\n",
    "    elif start_end_frame and end_end_frame:\n",
    "        return \"end\"\n",
    "    elif start_beg_frame and end_mid_frame:\n",
    "        return \"beginning_to_middle\"\n",
    "    elif start_beg_frame and end_end_frame:\n",
    "        return \"beginning_to_end\"\n",
    "    elif start_mid_frame and end_end_frame:\n",
    "        return \"middle_to_end\""
   ]
  },
  {
   "cell_type": "code",
   "execution_count": 4,
   "metadata": {},
   "outputs": [
    {
     "data": {
      "text/html": [
       "<div>\n",
       "<style scoped>\n",
       "    .dataframe tbody tr th:only-of-type {\n",
       "        vertical-align: middle;\n",
       "    }\n",
       "\n",
       "    .dataframe tbody tr th {\n",
       "        vertical-align: top;\n",
       "    }\n",
       "\n",
       "    .dataframe thead th {\n",
       "        text-align: right;\n",
       "    }\n",
       "</style>\n",
       "<table border=\"1\" class=\"dataframe\">\n",
       "  <thead>\n",
       "    <tr style=\"text-align: right;\">\n",
       "      <th></th>\n",
       "      <th>Tables_in_creative_analytics</th>\n",
       "    </tr>\n",
       "  </thead>\n",
       "  <tbody>\n",
       "    <tr>\n",
       "      <th>0</th>\n",
       "      <td>0117_hair_us_youtube_engagement</td>\n",
       "    </tr>\n",
       "    <tr>\n",
       "      <th>1</th>\n",
       "      <td>20221220_hair_us_branding_metrics</td>\n",
       "    </tr>\n",
       "    <tr>\n",
       "      <th>2</th>\n",
       "      <td>20221220_hair_us_tiktok_engagement</td>\n",
       "    </tr>\n",
       "    <tr>\n",
       "      <th>3</th>\n",
       "      <td>20221220_hair_us_tiktok_tags</td>\n",
       "    </tr>\n",
       "    <tr>\n",
       "      <th>4</th>\n",
       "      <td>20223012_CORRELATIONS_aggregate_asset_data</td>\n",
       "    </tr>\n",
       "    <tr>\n",
       "      <th>5</th>\n",
       "      <td>20223012_CORRELATIONS_asset_data</td>\n",
       "    </tr>\n",
       "    <tr>\n",
       "      <th>6</th>\n",
       "      <td>20223012_CORRELATIONS_audience_data</td>\n",
       "    </tr>\n",
       "    <tr>\n",
       "      <th>7</th>\n",
       "      <td>20223012_CORRELATIONS_framewise_branding_metrics</td>\n",
       "    </tr>\n",
       "    <tr>\n",
       "      <th>8</th>\n",
       "      <td>20223012_CORRELATIONS_other_metrics</td>\n",
       "    </tr>\n",
       "    <tr>\n",
       "      <th>9</th>\n",
       "      <td>20230102_collaborativeads_ad_adsets_pivot</td>\n",
       "    </tr>\n",
       "    <tr>\n",
       "      <th>10</th>\n",
       "      <td>20230102_collaborativeads_adset_audiences</td>\n",
       "    </tr>\n",
       "    <tr>\n",
       "      <th>11</th>\n",
       "      <td>20230102_collaborativeads_branding_metrics</td>\n",
       "    </tr>\n",
       "    <tr>\n",
       "      <th>12</th>\n",
       "      <td>20230102_collaborativeads_data</td>\n",
       "    </tr>\n",
       "    <tr>\n",
       "      <th>13</th>\n",
       "      <td>20230102_collaborativeads_tags</td>\n",
       "    </tr>\n",
       "    <tr>\n",
       "      <th>14</th>\n",
       "      <td>20230103_sedal_ad_performance</td>\n",
       "    </tr>\n",
       "    <tr>\n",
       "      <th>15</th>\n",
       "      <td>20230103_sedal_ads</td>\n",
       "    </tr>\n",
       "    <tr>\n",
       "      <th>16</th>\n",
       "      <td>20230103_sedal_branding_metrics</td>\n",
       "    </tr>\n",
       "    <tr>\n",
       "      <th>17</th>\n",
       "      <td>20230103_sedal_tags</td>\n",
       "    </tr>\n",
       "    <tr>\n",
       "      <th>18</th>\n",
       "      <td>20230111_ABNOTCO_conversion_data</td>\n",
       "    </tr>\n",
       "    <tr>\n",
       "      <th>19</th>\n",
       "      <td>20230111_ABNOTCO_creatives</td>\n",
       "    </tr>\n",
       "    <tr>\n",
       "      <th>20</th>\n",
       "      <td>20230123_BAYER_UMBRELLA_BRAND_ad_metadata</td>\n",
       "    </tr>\n",
       "    <tr>\n",
       "      <th>21</th>\n",
       "      <td>20230123_BAYER_UMBRELLA_BRAND_ad_performance_data</td>\n",
       "    </tr>\n",
       "    <tr>\n",
       "      <th>22</th>\n",
       "      <td>20230123_BAYER_UMBRELLA_BRAND_branding_metrics</td>\n",
       "    </tr>\n",
       "    <tr>\n",
       "      <th>23</th>\n",
       "      <td>20230123_BAYER_UMBRELLA_BRAND_competitor_asset...</td>\n",
       "    </tr>\n",
       "    <tr>\n",
       "      <th>24</th>\n",
       "      <td>20230123_BAYER_UMBRELLA_BRAND_logo_annotations</td>\n",
       "    </tr>\n",
       "    <tr>\n",
       "      <th>25</th>\n",
       "      <td>20230123_BAYER_UMBRELLA_BRAND_tags</td>\n",
       "    </tr>\n",
       "    <tr>\n",
       "      <th>26</th>\n",
       "      <td>20230127_NOTCO_REPORT_asset_text</td>\n",
       "    </tr>\n",
       "    <tr>\n",
       "      <th>27</th>\n",
       "      <td>20230127_NOTCO_REPORT_tag</td>\n",
       "    </tr>\n",
       "    <tr>\n",
       "      <th>28</th>\n",
       "      <td>20230127_NOTCO_REPORT_tag_coordinates</td>\n",
       "    </tr>\n",
       "    <tr>\n",
       "      <th>29</th>\n",
       "      <td>asset_text</td>\n",
       "    </tr>\n",
       "    <tr>\n",
       "      <th>30</th>\n",
       "      <td>tag</td>\n",
       "    </tr>\n",
       "    <tr>\n",
       "      <th>31</th>\n",
       "      <td>tag_coordinates</td>\n",
       "    </tr>\n",
       "  </tbody>\n",
       "</table>\n",
       "</div>"
      ],
      "text/plain": [
       "                         Tables_in_creative_analytics\n",
       "0                     0117_hair_us_youtube_engagement\n",
       "1                   20221220_hair_us_branding_metrics\n",
       "2                  20221220_hair_us_tiktok_engagement\n",
       "3                        20221220_hair_us_tiktok_tags\n",
       "4          20223012_CORRELATIONS_aggregate_asset_data\n",
       "5                    20223012_CORRELATIONS_asset_data\n",
       "6                 20223012_CORRELATIONS_audience_data\n",
       "7    20223012_CORRELATIONS_framewise_branding_metrics\n",
       "8                 20223012_CORRELATIONS_other_metrics\n",
       "9           20230102_collaborativeads_ad_adsets_pivot\n",
       "10          20230102_collaborativeads_adset_audiences\n",
       "11         20230102_collaborativeads_branding_metrics\n",
       "12                     20230102_collaborativeads_data\n",
       "13                     20230102_collaborativeads_tags\n",
       "14                      20230103_sedal_ad_performance\n",
       "15                                 20230103_sedal_ads\n",
       "16                    20230103_sedal_branding_metrics\n",
       "17                                20230103_sedal_tags\n",
       "18                   20230111_ABNOTCO_conversion_data\n",
       "19                         20230111_ABNOTCO_creatives\n",
       "20          20230123_BAYER_UMBRELLA_BRAND_ad_metadata\n",
       "21  20230123_BAYER_UMBRELLA_BRAND_ad_performance_data\n",
       "22     20230123_BAYER_UMBRELLA_BRAND_branding_metrics\n",
       "23  20230123_BAYER_UMBRELLA_BRAND_competitor_asset...\n",
       "24     20230123_BAYER_UMBRELLA_BRAND_logo_annotations\n",
       "25                 20230123_BAYER_UMBRELLA_BRAND_tags\n",
       "26                   20230127_NOTCO_REPORT_asset_text\n",
       "27                          20230127_NOTCO_REPORT_tag\n",
       "28              20230127_NOTCO_REPORT_tag_coordinates\n",
       "29                                         asset_text\n",
       "30                                                tag\n",
       "31                                    tag_coordinates"
      ]
     },
     "execution_count": 4,
     "metadata": {},
     "output_type": "execute_result"
    }
   ],
   "source": [
    "pd.read_sql(\"SHOW TABLES\", con=engine)"
   ]
  },
  {
   "cell_type": "code",
   "execution_count": 6,
   "metadata": {},
   "outputs": [],
   "source": [
    "table = '20230123_BAYER_UMBRELLA_BRAND_competitor_assets_url'\n",
    "df = pd.read_sql(f\"SELECT * FROM {table}\", con=engine)"
   ]
  },
  {
   "cell_type": "code",
   "execution_count": 6,
   "metadata": {},
   "outputs": [],
   "source": [
    "#--------TABLE 1: annotation of manual tagging------------------------\n",
    "table = '20230123_BAYER_UMBRELLA_BRAND_logo_annotations'\n",
    "df_annotation = pd.read_sql(f\"SELECT * FROM {table}\", con=engine)\n",
    "\n",
    "#--------TABLE 2: branding metrics-----------------------------------\n",
    "table = '20230123_BAYER_UMBRELLA_BRAND_branding_metrics'\n",
    "df_branding = pd.read_sql(f\"SELECT * FROM {table}\", con=engine)\n",
    "\n",
    "#--------TABLE 3: performance data-----------------------------------\n",
    "table = '20230123_BAYER_UMBRELLA_BRAND_ad_performance_data'\n",
    "df_performance = pd.read_sql(f\"SELECT * FROM {table}\", con=engine)\n",
    "\n",
    "#--------TABLE 4: meta data-----------------------------------\n",
    "table = '20230123_BAYER_UMBRELLA_BRAND_ad_metadata'\n",
    "df_metadata = pd.read_sql(f\"SELECT * FROM {table}\", con=engine)\n",
    "\n",
    "#--------TABLE 5: tags from tagging system-----------------------------------\n",
    "table = '20230123_BAYER_UMBRELLA_BRAND_tags'\n",
    "df_tags = pd.read_sql(f\"SELECT * FROM {table}\", con=engine)\n",
    "df_tags.to_csv('data/tags.csv', index=False)"
   ]
  },
  {
   "cell_type": "code",
   "execution_count": 7,
   "metadata": {},
   "outputs": [],
   "source": [
    "df_annotation['logo_position'] = 0\n",
    "df_annotation['logo_time'] = 0\n",
    "\n",
    "for i in range(len(df_annotation)):\n",
    "    bbox = [\n",
    "        df_annotation.annotation_bboxCoordTopLeftX.values[i],\n",
    "        df_annotation.annotation_bboxCoordTopLeftY.values[i],\n",
    "        df_annotation.annotation_bboxCoordBottomRightX.values[i],\n",
    "        df_annotation.annotation_bboxCoordBottomRightY.values[i]\n",
    "        ]\n",
    "    df_annotation.loc[i, 'logo_position'] = get_object_spatial_position(bbox)\n",
    "\n",
    "    startFrame = df_annotation.annotation_startFrame.values[i]\n",
    "    endFrame = df_annotation.annotation_endFrame.values[i]\n",
    "    totalFrame = df_annotation.frameCount.values[i]\n",
    "    df_annotation.loc[i, 'logo_time'] = get_object_temporal_position(startFrame, endFrame, totalFrame)"
   ]
  },
  {
   "cell_type": "code",
   "execution_count": 33,
   "metadata": {},
   "outputs": [],
   "source": [
    "df_annotation.to_csv('data/annotation.csv', index=False)\n",
    "df_branding.to_csv('data/branding_metrics.csv', index=False)\n",
    "df_metadata.to_csv('data/metadata.csv', index=False)\n",
    "df_performance.to_csv('data/performance_metrics.csv', index=False)"
   ]
  },
  {
   "cell_type": "code",
   "execution_count": 8,
   "metadata": {},
   "outputs": [
    {
     "data": {
      "text/plain": [
       "array(['Logo: primary', 'Logo: in pack', 'Logo: always on',\n",
       "       'Company Logo'], dtype=object)"
      ]
     },
     "execution_count": 8,
     "metadata": {},
     "output_type": "execute_result"
    }
   ],
   "source": [
    "df_annotation.annotation_name.unique()"
   ]
  },
  {
   "cell_type": "code",
   "execution_count": 10,
   "metadata": {},
   "outputs": [
    {
     "data": {
      "text/plain": [
       "129"
      ]
     },
     "execution_count": 10,
     "metadata": {},
     "output_type": "execute_result"
    }
   ],
   "source": [
    "df_annotation.loc[df_annotation.brandName=='Actron Argentina'].assetId.nunique()"
   ]
  },
  {
   "cell_type": "code",
   "execution_count": 30,
   "metadata": {},
   "outputs": [
    {
     "data": {
      "text/plain": [
       "361"
      ]
     },
     "execution_count": 30,
     "metadata": {},
     "output_type": "execute_result"
    }
   ],
   "source": [
    "df_performance.loc[(df_performance.carrousel_position.isna()==True) | (df_performance.carrousel_position=='1')].ad_id.nunique()"
   ]
  },
  {
   "cell_type": "code",
   "execution_count": 48,
   "metadata": {},
   "outputs": [
    {
     "data": {
      "text/plain": [
       "array([None, '1', '5', '4', '0', '3', '2', '6', '8', '7'], dtype=object)"
      ]
     },
     "execution_count": 48,
     "metadata": {},
     "output_type": "execute_result"
    }
   ],
   "source": [
    "df_performance.carrousel_position.unique()"
   ]
  }
 ],
 "metadata": {
  "kernelspec": {
   "display_name": "Python 3",
   "language": "python",
   "name": "python3"
  },
  "language_info": {
   "codemirror_mode": {
    "name": "ipython",
    "version": 3
   },
   "file_extension": ".py",
   "mimetype": "text/x-python",
   "name": "python",
   "nbconvert_exporter": "python",
   "pygments_lexer": "ipython3",
   "version": "3.11.0"
  },
  "orig_nbformat": 4,
  "vscode": {
   "interpreter": {
    "hash": "05c54f09ff8740622e897cbb6153cc9cb4cff37653c49d5b37c66e9bfcc3f46a"
   }
  }
 },
 "nbformat": 4,
 "nbformat_minor": 2
}
