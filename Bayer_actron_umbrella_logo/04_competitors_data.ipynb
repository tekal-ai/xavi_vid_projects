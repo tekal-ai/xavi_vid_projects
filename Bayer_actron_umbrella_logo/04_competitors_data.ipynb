{
 "cells": [
  {
   "cell_type": "code",
   "execution_count": 1,
   "metadata": {},
   "outputs": [],
   "source": [
    "import numpy as np\n",
    "import pandas as pd\n",
    "pd.pandas.set_option('display.max_columns', None)"
   ]
  },
  {
   "cell_type": "code",
   "execution_count": 2,
   "metadata": {},
   "outputs": [],
   "source": [
    "df_annotation = pd.read_csv('data/annotation.csv')\n",
    "df_branding = pd.read_csv('data/branding_metrics.csv')\n",
    "df_tags = pd.read_csv('data/tags.csv')\n",
    "df_competitors_url = pd.read_csv('data/df_competitors_url.csv')"
   ]
  },
  {
   "cell_type": "code",
   "execution_count": 3,
   "metadata": {},
   "outputs": [
    {
     "data": {
      "text/plain": [
       "1566"
      ]
     },
     "execution_count": 3,
     "metadata": {},
     "output_type": "execute_result"
    }
   ],
   "source": [
    "df_tags.assetId.nunique()"
   ]
  },
  {
   "cell_type": "code",
   "execution_count": 4,
   "metadata": {},
   "outputs": [],
   "source": [
    "df_competitors_url = df_competitors_url.rename(columns={'assetId':'asset_id','assetUrl':'asset_url'})"
   ]
  },
  {
   "cell_type": "code",
   "execution_count": 5,
   "metadata": {},
   "outputs": [],
   "source": [
    "df_tags = df_tags.rename(columns={\n",
    "                                'id':'tag_id',\n",
    "                                'assetId':'asset_id',\n",
    "                                'name':'tag_name',\n",
    "                                'tagType':'tag_type',\n",
    "                                'detectionId':'detection_id',\n",
    "                                'startFrame':'start_frame',\n",
    "                                'endFrame':'end_frame',\n",
    "                                'startTimestamp':'start_time_stamp',\n",
    "                                'endTimestamp':'end_time_stamp'\n",
    "                                })"
   ]
  },
  {
   "cell_type": "code",
   "execution_count": 6,
   "metadata": {},
   "outputs": [],
   "source": [
    "df_branding = df_branding.rename(columns={'assetId': 'asset_id', 'fileType':'file_type', 'brandName':'brand_name', 'brandAssociationIndex':'bai'})"
   ]
  },
  {
   "cell_type": "code",
   "execution_count": 7,
   "metadata": {},
   "outputs": [],
   "source": [
    "df_annotation = df_annotation[['annotation_tagId', 'assetId', 'annotation_name', 'brandName',\n",
    "                                    'annotation_relativeSaliencyScore', 'annotation_startFrame',\n",
    "                                    'annotation_endFrame', 'frameCount', 'logo_position', 'logo_time']].\\\n",
    "                                     rename(columns={\n",
    "                                         'annotation_tagId':'tag_id',\n",
    "                                         'assetId':'asset_id',\n",
    "                                         'annotation_name':'tag_name',\n",
    "                                         'brandName':'brand_name',\n",
    "                                         'annotation_relativeSaliencyScore':'saliency_score',\n",
    "                                         'annotation_startFrame':'start_frame',\n",
    "                                         'annotation_endFrame':'end_frame',\n",
    "                                         'frameCount':'total_frames'\n",
    "                                     })"
   ]
  },
  {
   "cell_type": "code",
   "execution_count": 9,
   "metadata": {},
   "outputs": [],
   "source": [
    "df_tags = pd.merge(df_tags, df_branding[['asset_id', 'brand_name']], on='asset_id', how='left')"
   ]
  },
  {
   "cell_type": "code",
   "execution_count": 14,
   "metadata": {},
   "outputs": [],
   "source": [
    "df_tags = df_tags.dropna(subset='brand_name')"
   ]
  },
  {
   "cell_type": "code",
   "execution_count": 15,
   "metadata": {},
   "outputs": [
    {
     "data": {
      "text/plain": [
       "166309"
      ]
     },
     "execution_count": 15,
     "metadata": {},
     "output_type": "execute_result"
    }
   ],
   "source": [
    "len(df_tags)"
   ]
  },
  {
   "cell_type": "code",
   "execution_count": 19,
   "metadata": {},
   "outputs": [],
   "source": [
    "df_tags_annot = pd.concat([df_tags, df_annotation])"
   ]
  },
  {
   "cell_type": "code",
   "execution_count": null,
   "metadata": {},
   "outputs": [],
   "source": [
    "df_annotation['tag_type'] = 'manual_logo'\n",
    "df_annotation['confidence'] = 1.0\n",
    "df_annotation['detection_id'] = 'no_data'\n",
    "df_annotation['start_time_stamp'] = 'no_data'\n",
    "df_annotation['end_time_stamp'] = 'no_data'\n",
    "\n",
    "df_tags['saliency_score'] = 'no_data'\n",
    "df_tags['logo_position'] = 'no_data'\n",
    "df_tags['logo_time'] = 'no_data'\n",
    "df_tags['total_frames'] = 'no_data'"
   ]
  },
  {
   "cell_type": "code",
   "execution_count": 25,
   "metadata": {},
   "outputs": [
    {
     "data": {
      "text/html": [
       "<div>\n",
       "<style scoped>\n",
       "    .dataframe tbody tr th:only-of-type {\n",
       "        vertical-align: middle;\n",
       "    }\n",
       "\n",
       "    .dataframe tbody tr th {\n",
       "        vertical-align: top;\n",
       "    }\n",
       "\n",
       "    .dataframe thead th {\n",
       "        text-align: right;\n",
       "    }\n",
       "</style>\n",
       "<table border=\"1\" class=\"dataframe\">\n",
       "  <thead>\n",
       "    <tr style=\"text-align: right;\">\n",
       "      <th></th>\n",
       "      <th>tag_id</th>\n",
       "      <th>asset_id</th>\n",
       "      <th>tag_name</th>\n",
       "      <th>tag_type</th>\n",
       "      <th>confidence</th>\n",
       "      <th>detection_id</th>\n",
       "      <th>start_time_stamp</th>\n",
       "      <th>end_time_stamp</th>\n",
       "      <th>start_frame</th>\n",
       "      <th>end_frame</th>\n",
       "      <th>brand_name</th>\n",
       "      <th>saliency_score</th>\n",
       "      <th>logo_position</th>\n",
       "      <th>logo_time</th>\n",
       "      <th>total_frames</th>\n",
       "    </tr>\n",
       "  </thead>\n",
       "  <tbody>\n",
       "    <tr>\n",
       "      <th>0</th>\n",
       "      <td>01GQ36F33B3PBHDRCQMESABRMG</td>\n",
       "      <td>01FZX9V10JQQ0P2TGRQ1G457PN</td>\n",
       "      <td>white</td>\n",
       "      <td>FACE</td>\n",
       "      <td>0.861348</td>\n",
       "      <td>01GQ36F33A69739H4780CXQWEG</td>\n",
       "      <td>00:00:02</td>\n",
       "      <td>00:00:05</td>\n",
       "      <td>50.0</td>\n",
       "      <td>125.0</td>\n",
       "      <td>Pantene AR</td>\n",
       "      <td>no_data</td>\n",
       "      <td>no_data</td>\n",
       "      <td>no_data</td>\n",
       "      <td>no_data</td>\n",
       "    </tr>\n",
       "    <tr>\n",
       "      <th>1</th>\n",
       "      <td>01GQ36F33B68N4FEK2E7S9ZCG1</td>\n",
       "      <td>01FZX9V10JQQ0P2TGRQ1G457PN</td>\n",
       "      <td>female</td>\n",
       "      <td>FACE</td>\n",
       "      <td>0.999992</td>\n",
       "      <td>01GQ36F33A69739H4780CXQWEG</td>\n",
       "      <td>00:00:02</td>\n",
       "      <td>00:00:14</td>\n",
       "      <td>50.0</td>\n",
       "      <td>350.0</td>\n",
       "      <td>Pantene AR</td>\n",
       "      <td>no_data</td>\n",
       "      <td>no_data</td>\n",
       "      <td>no_data</td>\n",
       "      <td>no_data</td>\n",
       "    </tr>\n",
       "    <tr>\n",
       "      <th>2</th>\n",
       "      <td>01GQ36F33B6J2D671N2A31K41C</td>\n",
       "      <td>01FZX9V10JQQ0P2TGRQ1G457PN</td>\n",
       "      <td>10-25</td>\n",
       "      <td>FACE</td>\n",
       "      <td>0.976645</td>\n",
       "      <td>01GQ36F33B522FRQ1JMQ3Y8KQR</td>\n",
       "      <td>00:00:03</td>\n",
       "      <td>00:00:14</td>\n",
       "      <td>75.0</td>\n",
       "      <td>350.0</td>\n",
       "      <td>Pantene AR</td>\n",
       "      <td>no_data</td>\n",
       "      <td>no_data</td>\n",
       "      <td>no_data</td>\n",
       "      <td>no_data</td>\n",
       "    </tr>\n",
       "    <tr>\n",
       "      <th>3</th>\n",
       "      <td>01GQ36F33B7QVFJ6KKXT9RXRT2</td>\n",
       "      <td>01FZX9V10JQQ0P2TGRQ1G457PN</td>\n",
       "      <td>gen z</td>\n",
       "      <td>FACE</td>\n",
       "      <td>0.000000</td>\n",
       "      <td>01GQ36F33B522FRQ1JMQ3Y8KQR</td>\n",
       "      <td>00:00:03</td>\n",
       "      <td>00:00:14</td>\n",
       "      <td>75.0</td>\n",
       "      <td>350.0</td>\n",
       "      <td>Pantene AR</td>\n",
       "      <td>no_data</td>\n",
       "      <td>no_data</td>\n",
       "      <td>no_data</td>\n",
       "      <td>no_data</td>\n",
       "    </tr>\n",
       "    <tr>\n",
       "      <th>4</th>\n",
       "      <td>01GQ36F33BBE5DWZENV0156S9S</td>\n",
       "      <td>01FZX9V10JQQ0P2TGRQ1G457PN</td>\n",
       "      <td>HAS_PERSON_TRUE</td>\n",
       "      <td>HAS_PERSON</td>\n",
       "      <td>1.000000</td>\n",
       "      <td>01GQ36F33B54TE1VKXY89XFZ50</td>\n",
       "      <td>00:00:02</td>\n",
       "      <td>00:00:04</td>\n",
       "      <td>50.0</td>\n",
       "      <td>100.0</td>\n",
       "      <td>Pantene AR</td>\n",
       "      <td>no_data</td>\n",
       "      <td>no_data</td>\n",
       "      <td>no_data</td>\n",
       "      <td>no_data</td>\n",
       "    </tr>\n",
       "    <tr>\n",
       "      <th>...</th>\n",
       "      <td>...</td>\n",
       "      <td>...</td>\n",
       "      <td>...</td>\n",
       "      <td>...</td>\n",
       "      <td>...</td>\n",
       "      <td>...</td>\n",
       "      <td>...</td>\n",
       "      <td>...</td>\n",
       "      <td>...</td>\n",
       "      <td>...</td>\n",
       "      <td>...</td>\n",
       "      <td>...</td>\n",
       "      <td>...</td>\n",
       "      <td>...</td>\n",
       "      <td>...</td>\n",
       "    </tr>\n",
       "    <tr>\n",
       "      <th>1672</th>\n",
       "      <td>01G2T89NECC6M3SYAVR2ZQ0G0R</td>\n",
       "      <td>01GQDS6DVEAJSNPQ8C8Z4E21Z9</td>\n",
       "      <td>Logo: in pack</td>\n",
       "      <td>manual_logo</td>\n",
       "      <td>1.000000</td>\n",
       "      <td>no_data</td>\n",
       "      <td>no_data</td>\n",
       "      <td>no_data</td>\n",
       "      <td>336.0</td>\n",
       "      <td>340.0</td>\n",
       "      <td>Supradyn Argentina</td>\n",
       "      <td>0.024976</td>\n",
       "      <td>center</td>\n",
       "      <td>end</td>\n",
       "      <td>375.0</td>\n",
       "    </tr>\n",
       "    <tr>\n",
       "      <th>1673</th>\n",
       "      <td>01G2T89NECC6M3SYAVR2ZQ0G0R</td>\n",
       "      <td>01GQDS6DVEAJSNPQ8C8Z4E21Z9</td>\n",
       "      <td>Logo: in pack</td>\n",
       "      <td>manual_logo</td>\n",
       "      <td>1.000000</td>\n",
       "      <td>no_data</td>\n",
       "      <td>no_data</td>\n",
       "      <td>no_data</td>\n",
       "      <td>336.0</td>\n",
       "      <td>340.0</td>\n",
       "      <td>Supradyn Argentina</td>\n",
       "      <td>0.053522</td>\n",
       "      <td>bottom_left</td>\n",
       "      <td>end</td>\n",
       "      <td>375.0</td>\n",
       "    </tr>\n",
       "    <tr>\n",
       "      <th>1674</th>\n",
       "      <td>01G2T89NECC6M3SYAVR2ZQ0G0R</td>\n",
       "      <td>01GQDS6DVEAJSNPQ8C8Z4E21Z9</td>\n",
       "      <td>Logo: in pack</td>\n",
       "      <td>manual_logo</td>\n",
       "      <td>1.000000</td>\n",
       "      <td>no_data</td>\n",
       "      <td>no_data</td>\n",
       "      <td>no_data</td>\n",
       "      <td>336.0</td>\n",
       "      <td>340.0</td>\n",
       "      <td>Supradyn Argentina</td>\n",
       "      <td>0.009687</td>\n",
       "      <td>bottom_center</td>\n",
       "      <td>end</td>\n",
       "      <td>375.0</td>\n",
       "    </tr>\n",
       "    <tr>\n",
       "      <th>1675</th>\n",
       "      <td>01G2T89NECC6M3SYAVR2ZQ0G0R</td>\n",
       "      <td>01GQDS6DVEAJSNPQ8C8Z4E21Z9</td>\n",
       "      <td>Logo: in pack</td>\n",
       "      <td>manual_logo</td>\n",
       "      <td>1.000000</td>\n",
       "      <td>no_data</td>\n",
       "      <td>no_data</td>\n",
       "      <td>no_data</td>\n",
       "      <td>336.0</td>\n",
       "      <td>340.0</td>\n",
       "      <td>Supradyn Argentina</td>\n",
       "      <td>0.017677</td>\n",
       "      <td>bottom_right</td>\n",
       "      <td>end</td>\n",
       "      <td>375.0</td>\n",
       "    </tr>\n",
       "    <tr>\n",
       "      <th>1676</th>\n",
       "      <td>01GQ394VXHC46TZZ823B34SP3J</td>\n",
       "      <td>01GQDS6DVEAJSNPQ8C8Z4E21Z9</td>\n",
       "      <td>Company Logo</td>\n",
       "      <td>manual_logo</td>\n",
       "      <td>1.000000</td>\n",
       "      <td>no_data</td>\n",
       "      <td>no_data</td>\n",
       "      <td>no_data</td>\n",
       "      <td>366.0</td>\n",
       "      <td>370.0</td>\n",
       "      <td>Supradyn Argentina</td>\n",
       "      <td>0.506096</td>\n",
       "      <td>bottom_center</td>\n",
       "      <td>end</td>\n",
       "      <td>375.0</td>\n",
       "    </tr>\n",
       "  </tbody>\n",
       "</table>\n",
       "<p>167986 rows × 15 columns</p>\n",
       "</div>"
      ],
      "text/plain": [
       "                          tag_id                    asset_id         tag_name  \\\n",
       "0     01GQ36F33B3PBHDRCQMESABRMG  01FZX9V10JQQ0P2TGRQ1G457PN            white   \n",
       "1     01GQ36F33B68N4FEK2E7S9ZCG1  01FZX9V10JQQ0P2TGRQ1G457PN           female   \n",
       "2     01GQ36F33B6J2D671N2A31K41C  01FZX9V10JQQ0P2TGRQ1G457PN            10-25   \n",
       "3     01GQ36F33B7QVFJ6KKXT9RXRT2  01FZX9V10JQQ0P2TGRQ1G457PN            gen z   \n",
       "4     01GQ36F33BBE5DWZENV0156S9S  01FZX9V10JQQ0P2TGRQ1G457PN  HAS_PERSON_TRUE   \n",
       "...                          ...                         ...              ...   \n",
       "1672  01G2T89NECC6M3SYAVR2ZQ0G0R  01GQDS6DVEAJSNPQ8C8Z4E21Z9    Logo: in pack   \n",
       "1673  01G2T89NECC6M3SYAVR2ZQ0G0R  01GQDS6DVEAJSNPQ8C8Z4E21Z9    Logo: in pack   \n",
       "1674  01G2T89NECC6M3SYAVR2ZQ0G0R  01GQDS6DVEAJSNPQ8C8Z4E21Z9    Logo: in pack   \n",
       "1675  01G2T89NECC6M3SYAVR2ZQ0G0R  01GQDS6DVEAJSNPQ8C8Z4E21Z9    Logo: in pack   \n",
       "1676  01GQ394VXHC46TZZ823B34SP3J  01GQDS6DVEAJSNPQ8C8Z4E21Z9     Company Logo   \n",
       "\n",
       "         tag_type  confidence                detection_id start_time_stamp  \\\n",
       "0            FACE    0.861348  01GQ36F33A69739H4780CXQWEG         00:00:02   \n",
       "1            FACE    0.999992  01GQ36F33A69739H4780CXQWEG         00:00:02   \n",
       "2            FACE    0.976645  01GQ36F33B522FRQ1JMQ3Y8KQR         00:00:03   \n",
       "3            FACE    0.000000  01GQ36F33B522FRQ1JMQ3Y8KQR         00:00:03   \n",
       "4      HAS_PERSON    1.000000  01GQ36F33B54TE1VKXY89XFZ50         00:00:02   \n",
       "...           ...         ...                         ...              ...   \n",
       "1672  manual_logo    1.000000                     no_data          no_data   \n",
       "1673  manual_logo    1.000000                     no_data          no_data   \n",
       "1674  manual_logo    1.000000                     no_data          no_data   \n",
       "1675  manual_logo    1.000000                     no_data          no_data   \n",
       "1676  manual_logo    1.000000                     no_data          no_data   \n",
       "\n",
       "     end_time_stamp  start_frame  end_frame          brand_name  \\\n",
       "0          00:00:05         50.0      125.0          Pantene AR   \n",
       "1          00:00:14         50.0      350.0          Pantene AR   \n",
       "2          00:00:14         75.0      350.0          Pantene AR   \n",
       "3          00:00:14         75.0      350.0          Pantene AR   \n",
       "4          00:00:04         50.0      100.0          Pantene AR   \n",
       "...             ...          ...        ...                 ...   \n",
       "1672        no_data        336.0      340.0  Supradyn Argentina   \n",
       "1673        no_data        336.0      340.0  Supradyn Argentina   \n",
       "1674        no_data        336.0      340.0  Supradyn Argentina   \n",
       "1675        no_data        336.0      340.0  Supradyn Argentina   \n",
       "1676        no_data        366.0      370.0  Supradyn Argentina   \n",
       "\n",
       "     saliency_score  logo_position logo_time total_frames  \n",
       "0           no_data        no_data   no_data      no_data  \n",
       "1           no_data        no_data   no_data      no_data  \n",
       "2           no_data        no_data   no_data      no_data  \n",
       "3           no_data        no_data   no_data      no_data  \n",
       "4           no_data        no_data   no_data      no_data  \n",
       "...             ...            ...       ...          ...  \n",
       "1672       0.024976         center       end        375.0  \n",
       "1673       0.053522    bottom_left       end        375.0  \n",
       "1674       0.009687  bottom_center       end        375.0  \n",
       "1675       0.017677   bottom_right       end        375.0  \n",
       "1676       0.506096  bottom_center       end        375.0  \n",
       "\n",
       "[167986 rows x 15 columns]"
      ]
     },
     "execution_count": 25,
     "metadata": {},
     "output_type": "execute_result"
    }
   ],
   "source": [
    "df_tags_annot"
   ]
  },
  {
   "cell_type": "code",
   "execution_count": 28,
   "metadata": {},
   "outputs": [],
   "source": [
    "df_tags_annot_branding = pd.merge(df_tags_annot, df_branding[['asset_id', 'file_type', 'adrecallScore', 'bai']], on='asset_id', how='left')"
   ]
  },
  {
   "cell_type": "code",
   "execution_count": 31,
   "metadata": {},
   "outputs": [
    {
     "data": {
      "text/plain": [
       "array(['Pantene AR', 'Pantene Argentina', \"Hellmann's\",\n",
       "       \"Hellmann's Argentina \", 'Pantene US', 'Ibupirac Pediatrico',\n",
       "       'Geniol', \"Hellmann's Tiktok\", 'Ibupirac Pediatrico Packs',\n",
       "       'Pantene Brazil', 'Pruebas Pantene ', 'Ibupirac Packs',\n",
       "       'Geniol Packs', 'Actron Argentina', 'Redoxitos Argentina',\n",
       "       'Supradyn Argentina'], dtype=object)"
      ]
     },
     "execution_count": 31,
     "metadata": {},
     "output_type": "execute_result"
    }
   ],
   "source": [
    "df_tags_annot_branding.brand_name.unique()"
   ]
  },
  {
   "cell_type": "code",
   "execution_count": 38,
   "metadata": {},
   "outputs": [],
   "source": [
    "df_tags_annot_branding = df_tags_annot_branding.loc[df_tags_annot_branding.brand_name!='Actron Argentina']\n",
    "df_tags_annot_branding = df_tags_annot_branding.loc[df_tags_annot_branding.brand_name!='Redoxitos Argentina']\n",
    "\n",
    "df_tags_annot_branding = df_tags_annot_branding.dropna(subset='adrecallScore')\n",
    "df_tags_annot_branding = df_tags_annot_branding.dropna(subset='bai')"
   ]
  },
  {
   "cell_type": "code",
   "execution_count": 39,
   "metadata": {},
   "outputs": [],
   "source": [
    "df_tags_annot_branding.to_csv('data/competitors.csv', index=False)"
   ]
  },
  {
   "cell_type": "code",
   "execution_count": 41,
   "metadata": {},
   "outputs": [
    {
     "data": {
      "text/plain": [
       "192"
      ]
     },
     "execution_count": 41,
     "metadata": {},
     "output_type": "execute_result"
    }
   ],
   "source": [
    "df_tags_annot_branding.loc[df_tags_annot_branding.asset_id.isin(df_annotation.asset_id)].asset_id.nunique()"
   ]
  }
 ],
 "metadata": {
  "kernelspec": {
   "display_name": "Python 3",
   "language": "python",
   "name": "python3"
  },
  "language_info": {
   "codemirror_mode": {
    "name": "ipython",
    "version": 3
   },
   "file_extension": ".py",
   "mimetype": "text/x-python",
   "name": "python",
   "nbconvert_exporter": "python",
   "pygments_lexer": "ipython3",
   "version": "3.11.0 (main, Oct 24 2022, 18:26:48) [MSC v.1933 64 bit (AMD64)]"
  },
  "orig_nbformat": 4,
  "vscode": {
   "interpreter": {
    "hash": "05c54f09ff8740622e897cbb6153cc9cb4cff37653c49d5b37c66e9bfcc3f46a"
   }
  }
 },
 "nbformat": 4,
 "nbformat_minor": 2
}
