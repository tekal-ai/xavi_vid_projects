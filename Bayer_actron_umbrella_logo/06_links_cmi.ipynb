{
 "cells": [
  {
   "cell_type": "code",
   "execution_count": 1,
   "metadata": {},
   "outputs": [],
   "source": [
    "import numpy as np\n",
    "import pandas as pd\n",
    "pd.pandas.set_option('display.max_columns', None)"
   ]
  },
  {
   "cell_type": "code",
   "execution_count": 10,
   "metadata": {},
   "outputs": [],
   "source": [
    "df_bayer = pd.read_csv('data/bayer_branding_correction.csv')"
   ]
  },
  {
   "cell_type": "code",
   "execution_count": 29,
   "metadata": {},
   "outputs": [],
   "source": [
    "df_annotation = pd.read_csv('data/annotation.csv')\n",
    "df_annotation = df_annotation.rename(columns={'assetId':'asset_id'})"
   ]
  },
  {
   "cell_type": "code",
   "execution_count": 11,
   "metadata": {},
   "outputs": [
    {
     "name": "stderr",
     "output_type": "stream",
     "text": [
      "C:\\Users\\Xavi\\AppData\\Local\\Temp\\ipykernel_10996\\2904865282.py:9: RuntimeWarning: divide by zero encountered in divide\n",
      "  df_bayer['cpc'] = df_bayer.spend.values / df_bayer.clicks.values\n"
     ]
    }
   ],
   "source": [
    "df_bayer.tag_name = df_bayer.tag_name.astype(str)\n",
    "df_bayer.tag_name = df_bayer.tag_name.str.lower()\n",
    "    \n",
    "#---------------------FILTERING low impressions at 5%----------------------\n",
    "df_bayer = df_bayer.loc[df_bayer.impressions > df_bayer.impressions.quantile(0.05)]\n",
    "    \n",
    "#---------------------CREATING METRICS IF IS NECESSARY------------------------\n",
    "df_bayer['ctr'] = df_bayer.clicks.values / df_bayer.impressions.values\n",
    "df_bayer['cpc'] = df_bayer.spend.values / df_bayer.clicks.values\n",
    "df_bayer['vtr'] = df_bayer.video_views.values / df_bayer.impressions.values\n",
    "    \n",
    "df_bayer.loc[df_bayer['clicks'] == 0, 'cpc'] = 0\n",
    "df_bayer.loc[df_bayer['impressions'] == 0, 'ctr'] = 0\n",
    "df_bayer.loc[df_bayer['impressions'] == 0, 'vtr'] = 0\n",
    "    \n",
    "df_bayer['ctr'] = df_bayer['ctr']*100\n",
    "df_bayer['vtr'] = df_bayer['vtr']*100"
   ]
  },
  {
   "cell_type": "code",
   "execution_count": 12,
   "metadata": {},
   "outputs": [],
   "source": [
    "df_bayer = df_bayer.loc[df_bayer.tag_type!='TEXT']\n",
    "df_bayer = df_bayer.loc[df_bayer.tag_type!='SUPER_NOUN']\n",
    "df_bayer = df_bayer.loc[df_bayer.tag_type!='SUPER_ADJ']\n",
    "df_bayer = df_bayer.loc[df_bayer.tag_type!='SUPER_VERB']\n",
    "df_bayer = df_bayer.loc[df_bayer.tag_type!='COLORFULNESS']\n",
    "df_bayer = df_bayer.loc[df_bayer.tag_type!='BRIGHTNESS']\n",
    "df_bayer = df_bayer.loc[df_bayer.tag_type!='PERSON_TEMPORAL_SEC']\n",
    "df_bayer = df_bayer.loc[df_bayer.tag_type!='HAS_PROMO']\n",
    "df_bayer = df_bayer.loc[df_bayer.tag_type!='HAS_CTA']\n",
    "df_bayer = df_bayer.loc[df_bayer.tag_type!='CONTRAST']\n",
    "df_bayer = df_bayer.loc[df_bayer.tag_type!='LOGO_TEMPORAL_SEC']\n",
    "df_bayer = df_bayer.loc[df_bayer.tag_type!='LOGO_SPATIAL']\n",
    "df_bayer = df_bayer.loc[df_bayer.tag_type!='LOGO_TEMPORAL_PCT']\n",
    "df_bayer = df_bayer.loc[df_bayer.tag_type!='LOGO']\n",
    "df_bayer = df_bayer.loc[df_bayer.tag_type!='AESTHETICS']\n",
    "df_bayer = df_bayer.loc[df_bayer.tag_type!='COLOR']\n",
    "df_bayer = df_bayer.loc[df_bayer.tag_type!='LABEL']\n",
    "\n",
    "#df_bayer = df_bayer.loc[df_bayer.tag_type!='HAS_PERSON']\n",
    "#df_bayer = df_bayer.loc[df_bayer.tag_type!='TEXT_SALIENCY']\n",
    "#df_bayer = df_bayer.loc[df_bayer.tag_type!='TEXT_COVERAGE'] \n",
    "\n",
    "#----------SETTING CONFIDENCE-----------------------\n",
    "df_bayer['confidence'] = df_bayer['confidence'].apply(lambda x: x/100 if x > 1 else x)\n",
    "    \n",
    "df_bayer = df_bayer.loc[df_bayer.confidence>0.9]\n",
    "df_bayer = df_bayer.reset_index(drop=True)"
   ]
  },
  {
   "cell_type": "code",
   "execution_count": 15,
   "metadata": {},
   "outputs": [
    {
     "data": {
      "text/plain": [
       "Index(['tag_id', 'asset_id', 'tag_name', 'tag_type', 'confidence',\n",
       "       'detection_id', 'start_time_stamp', 'end_time_stamp', 'start_frame',\n",
       "       'end_frame', 'file_type_x', 'brand_name', 'saliency_score',\n",
       "       'logo_position', 'logo_time', 'total_frames', 'ad_id',\n",
       "       'carrousel_position', 'spend', 'impressions', 'clicks', 'video_views',\n",
       "       'filename', 's3_url', 'ctr', 'cpc', 'vtr', 'file_type_y',\n",
       "       'adrecallScore', 'bai'],\n",
       "      dtype='object')"
      ]
     },
     "execution_count": 15,
     "metadata": {},
     "output_type": "execute_result"
    }
   ],
   "source": [
    "df_bayer.columns"
   ]
  },
  {
   "cell_type": "code",
   "execution_count": 18,
   "metadata": {},
   "outputs": [],
   "source": [
    "df_bayer[['tag_id', 'asset_id', 'tag_name', 'tag_type', 'start_time_stamp', 'end_time_stamp', 'start_frame',\n",
    "       'end_frame', 'brand_name', 'logo_position', 'logo_time', 'ad_id',\n",
    "       'carrousel_position','filename', 's3_url', 'ctr', 'cpc', 'vtr', 'adrecallScore', 'bai']].to_csv('data/bayer_CMI_table.csv', index=False)"
   ]
  },
  {
   "cell_type": "code",
   "execution_count": 23,
   "metadata": {},
   "outputs": [],
   "source": [
    "df_competitors = pd.read_csv('data/competitors.csv')\n",
    "df_url = pd.read_csv('data/df_competitors_url.csv')\n",
    "df_url = df_url.rename(columns={'assetId':'asset_id','assetUrl':'asset_url'})"
   ]
  },
  {
   "cell_type": "code",
   "execution_count": 25,
   "metadata": {},
   "outputs": [],
   "source": [
    "df_competitors = pd.merge(df_competitors, df_url, on='asset_id', how='left')"
   ]
  },
  {
   "cell_type": "code",
   "execution_count": 27,
   "metadata": {},
   "outputs": [],
   "source": [
    "df_competitors = df_competitors.loc[df_competitors.tag_type!='TEXT']\n",
    "df_competitors = df_competitors.loc[df_competitors.tag_type!='SUPER_NOUN']\n",
    "df_competitors = df_competitors.loc[df_competitors.tag_type!='SUPER_ADJ']\n",
    "df_competitors = df_competitors.loc[df_competitors.tag_type!='SUPER_VERB']\n",
    "df_competitors = df_competitors.loc[df_competitors.tag_type!='COLORFULNESS']\n",
    "df_competitors = df_competitors.loc[df_competitors.tag_type!='BRIGHTNESS']\n",
    "df_competitors = df_competitors.loc[df_competitors.tag_type!='PERSON_TEMPORAL_SEC']\n",
    "df_competitors = df_competitors.loc[df_competitors.tag_type!='HAS_PROMO']\n",
    "df_competitors = df_competitors.loc[df_competitors.tag_type!='HAS_CTA']\n",
    "df_competitors = df_competitors.loc[df_competitors.tag_type!='CONTRAST']\n",
    "df_competitors = df_competitors.loc[df_competitors.tag_type!='LOGO_TEMPORAL_SEC']\n",
    "df_competitors = df_competitors.loc[df_competitors.tag_type!='LOGO_SPATIAL']\n",
    "df_competitors = df_competitors.loc[df_competitors.tag_type!='LOGO_TEMPORAL_PCT']\n",
    "df_competitors = df_competitors.loc[df_competitors.tag_type!='LOGO']\n",
    "df_competitors = df_competitors.loc[df_competitors.tag_type!='AESTHETICS']\n",
    "df_competitors = df_competitors.loc[df_competitors.tag_type!='COLOR']\n",
    "df_competitors = df_competitors.loc[df_competitors.tag_type!='LABEL']\n",
    "\n",
    "#df_competitors = df_competitors.loc[df_competitors.tag_type!='HAS_PERSON']\n",
    "#df_competitors = df_competitors.loc[df_competitors.tag_type!='TEXT_SALIENCY']\n",
    "#df_competitors = df_competitors.loc[df_competitors.tag_type!='TEXT_COVERAGE'] \n",
    "\n",
    "#----------SETTING CONFIDENCE-----------------------\n",
    "df_competitors['confidence'] = df_competitors['confidence'].apply(lambda x: x/100 if x > 1 else x)\n",
    "    \n",
    "df_competitors = df_competitors.loc[df_competitors.confidence>0.9]\n",
    "df_competitors = df_competitors.reset_index(drop=True)"
   ]
  },
  {
   "cell_type": "code",
   "execution_count": 30,
   "metadata": {},
   "outputs": [],
   "source": [
    "df_competitors.tag_name = df_competitors.tag_name.astype(str)\n",
    "df_competitors.tag_name = df_competitors.tag_name.str.lower()\n",
    "df_competitors = df_competitors.loc[df_competitors.asset_id.isin(df_annotation.asset_id)]"
   ]
  },
  {
   "cell_type": "code",
   "execution_count": 32,
   "metadata": {},
   "outputs": [],
   "source": [
    "df_competitors.to_csv('data/competitors_CMI_table.csv', index=False)"
   ]
  }
 ],
 "metadata": {
  "kernelspec": {
   "display_name": "Python 3",
   "language": "python",
   "name": "python3"
  },
  "language_info": {
   "codemirror_mode": {
    "name": "ipython",
    "version": 3
   },
   "file_extension": ".py",
   "mimetype": "text/x-python",
   "name": "python",
   "nbconvert_exporter": "python",
   "pygments_lexer": "ipython3",
   "version": "3.11.0"
  },
  "orig_nbformat": 4,
  "vscode": {
   "interpreter": {
    "hash": "05c54f09ff8740622e897cbb6153cc9cb4cff37653c49d5b37c66e9bfcc3f46a"
   }
  }
 },
 "nbformat": 4,
 "nbformat_minor": 2
}
