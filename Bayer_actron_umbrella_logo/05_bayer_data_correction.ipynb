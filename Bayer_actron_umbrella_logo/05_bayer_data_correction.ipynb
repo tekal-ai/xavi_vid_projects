{
 "cells": [
  {
   "cell_type": "code",
   "execution_count": 1,
   "metadata": {},
   "outputs": [],
   "source": [
    "import numpy as np\n",
    "import pandas as pd\n",
    "pd.pandas.set_option('display.max_columns', None)"
   ]
  },
  {
   "cell_type": "code",
   "execution_count": 2,
   "metadata": {},
   "outputs": [],
   "source": [
    "df_branding = pd.read_csv('data/branding_metrics.csv')\n",
    "\n",
    "df_bayer = pd.read_csv('data/bayer.csv')"
   ]
  },
  {
   "cell_type": "code",
   "execution_count": 7,
   "metadata": {},
   "outputs": [],
   "source": [
    "df_bayer = df_bayer[['tag_id', 'asset_id', 'tag_name', 'tag_type', 'confidence',\n",
    "       'detection_id', 'start_time_stamp', 'end_time_stamp', 'start_frame',\n",
    "       'end_frame', 'file_type', 'brand_name', 'saliency_score',\n",
    "       'logo_position', 'logo_time', 'total_frames', 'ad_id',\n",
    "       'carrousel_position', 'spend', 'impressions', 'clicks', 'video_views',\n",
    "       'filename', 's3_url', 'ctr', 'cpc', 'vtr']]"
   ]
  },
  {
   "cell_type": "code",
   "execution_count": 9,
   "metadata": {},
   "outputs": [],
   "source": [
    "df_branding = df_branding.rename(columns={'assetId': 'asset_id', 'fileType':'file_type', 'brandName':'brand_name', 'brandAssociationIndex':'bai'})"
   ]
  },
  {
   "cell_type": "code",
   "execution_count": 14,
   "metadata": {},
   "outputs": [],
   "source": [
    "df_bayer = pd.merge(df_bayer, df_branding[['asset_id', 'file_type', 'adrecallScore', 'bai']], on='asset_id', how='left')"
   ]
  },
  {
   "cell_type": "code",
   "execution_count": 16,
   "metadata": {},
   "outputs": [],
   "source": [
    "df_bayer.to_csv('data/bayer_branding_correction.csv', index=False)"
   ]
  }
 ],
 "metadata": {
  "kernelspec": {
   "display_name": "Python 3",
   "language": "python",
   "name": "python3"
  },
  "language_info": {
   "codemirror_mode": {
    "name": "ipython",
    "version": 3
   },
   "file_extension": ".py",
   "mimetype": "text/x-python",
   "name": "python",
   "nbconvert_exporter": "python",
   "pygments_lexer": "ipython3",
   "version": "3.11.0"
  },
  "orig_nbformat": 4,
  "vscode": {
   "interpreter": {
    "hash": "05c54f09ff8740622e897cbb6153cc9cb4cff37653c49d5b37c66e9bfcc3f46a"
   }
  }
 },
 "nbformat": 4,
 "nbformat_minor": 2
}
