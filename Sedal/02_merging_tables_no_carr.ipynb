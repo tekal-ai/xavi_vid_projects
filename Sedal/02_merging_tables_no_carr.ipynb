{
 "cells": [
  {
   "cell_type": "code",
   "execution_count": 12,
   "metadata": {},
   "outputs": [],
   "source": [
    "import numpy as np\n",
    "import pandas as pd\n",
    "pd.pandas.set_option('display.max_columns', None)"
   ]
  },
  {
   "cell_type": "code",
   "execution_count": 33,
   "metadata": {},
   "outputs": [],
   "source": [
    "df_performance = pd.read_csv('data/sedal_ad_performance.csv')\n",
    "\n",
    "df_ads = pd.read_csv('data/sedal_ads.csv')\n",
    "\n",
    "df_branding = pd.read_csv('data/sedal_branding_metrics.csv')\n",
    "\n",
    "df_tags = pd.read_csv('data/sedal_tags.csv')"
   ]
  },
  {
   "cell_type": "code",
   "execution_count": 14,
   "metadata": {},
   "outputs": [
    {
     "name": "stdout",
     "output_type": "stream",
     "text": [
      "ad_id in ad_performance: 552\n",
      "ad_id in ads: 1021\n",
      "assetId in ads: 591\n",
      "No ad_id here. assetId in branding_metricss: 591\n",
      "No ad_id here. assetId in tags: 591\n"
     ]
    }
   ],
   "source": [
    "print(f'ad_id in ad_performance: {df_performance.ad_id.nunique()}')\n",
    "\n",
    "print(f'ad_id in ads: {df_ads.ad_id.nunique()}')\n",
    "\n",
    "print(f'assetId in ads: {df_ads.assetId.nunique()}')\n",
    "\n",
    "print(f'No ad_id here. assetId in branding_metricss: {df_branding.assetId.nunique()}')\n",
    "\n",
    "print(f'No ad_id here. assetId in tags: {df_tags.assetId.nunique()}')"
   ]
  },
  {
   "cell_type": "code",
   "execution_count": 34,
   "metadata": {},
   "outputs": [
    {
     "data": {
      "text/plain": [
       "ad_id\n",
       "6032124851673    1\n",
       "6032124854473    1\n",
       "6032823063273    1\n",
       "6032823065273    1\n",
       "6032860330473    1\n",
       "                ..\n",
       "6336249713273    4\n",
       "6336250279073    4\n",
       "6336251362073    2\n",
       "6336251747073    2\n",
       "6336252500273    2\n",
       "Name: assetId, Length: 1021, dtype: int64"
      ]
     },
     "execution_count": 34,
     "metadata": {},
     "output_type": "execute_result"
    }
   ],
   "source": [
    "df_aux = df_ads.groupby('ad_id').assetId.nunique()\n",
    "df_aux"
   ]
  },
  {
   "cell_type": "code",
   "execution_count": 35,
   "metadata": {},
   "outputs": [
    {
     "data": {
      "text/html": [
       "<div>\n",
       "<style scoped>\n",
       "    .dataframe tbody tr th:only-of-type {\n",
       "        vertical-align: middle;\n",
       "    }\n",
       "\n",
       "    .dataframe tbody tr th {\n",
       "        vertical-align: top;\n",
       "    }\n",
       "\n",
       "    .dataframe thead th {\n",
       "        text-align: right;\n",
       "    }\n",
       "</style>\n",
       "<table border=\"1\" class=\"dataframe\">\n",
       "  <thead>\n",
       "    <tr style=\"text-align: right;\">\n",
       "      <th></th>\n",
       "      <th>ad_id</th>\n",
       "      <th>assetId</th>\n",
       "    </tr>\n",
       "  </thead>\n",
       "  <tbody>\n",
       "    <tr>\n",
       "      <th>0</th>\n",
       "      <td>6032124851673</td>\n",
       "      <td>1</td>\n",
       "    </tr>\n",
       "    <tr>\n",
       "      <th>1</th>\n",
       "      <td>6032124854473</td>\n",
       "      <td>1</td>\n",
       "    </tr>\n",
       "    <tr>\n",
       "      <th>2</th>\n",
       "      <td>6032823063273</td>\n",
       "      <td>1</td>\n",
       "    </tr>\n",
       "    <tr>\n",
       "      <th>3</th>\n",
       "      <td>6032823065273</td>\n",
       "      <td>1</td>\n",
       "    </tr>\n",
       "    <tr>\n",
       "      <th>4</th>\n",
       "      <td>6032860330473</td>\n",
       "      <td>1</td>\n",
       "    </tr>\n",
       "  </tbody>\n",
       "</table>\n",
       "</div>"
      ],
      "text/plain": [
       "           ad_id  assetId\n",
       "0  6032124851673        1\n",
       "1  6032124854473        1\n",
       "2  6032823063273        1\n",
       "3  6032823065273        1\n",
       "4  6032860330473        1"
      ]
     },
     "execution_count": 35,
     "metadata": {},
     "output_type": "execute_result"
    }
   ],
   "source": [
    "df_aux2 = df_aux.reset_index()\n",
    "\n",
    "df_ads_no_carr = df_aux2.loc[df_aux2.assetId==1]\n",
    "df_ads_carr = df_aux2.loc[df_aux2.assetId>1]\n",
    "\n",
    "df_ads_no_carr.head()"
   ]
  },
  {
   "cell_type": "code",
   "execution_count": 36,
   "metadata": {},
   "outputs": [],
   "source": [
    "df_ads_without_carr = df_ads.loc[df_ads.ad_id.isin(df_ads_no_carr.ad_id)]"
   ]
  },
  {
   "cell_type": "code",
   "execution_count": 38,
   "metadata": {},
   "outputs": [
    {
     "data": {
      "text/plain": [
       "(1021, 743)"
      ]
     },
     "execution_count": 38,
     "metadata": {},
     "output_type": "execute_result"
    }
   ],
   "source": [
    "df_ads.ad_id.nunique(), df_ads_without_carr.ad_id.nunique()"
   ]
  },
  {
   "cell_type": "code",
   "execution_count": 39,
   "metadata": {},
   "outputs": [
    {
     "data": {
      "text/html": [
       "<div>\n",
       "<style scoped>\n",
       "    .dataframe tbody tr th:only-of-type {\n",
       "        vertical-align: middle;\n",
       "    }\n",
       "\n",
       "    .dataframe tbody tr th {\n",
       "        vertical-align: top;\n",
       "    }\n",
       "\n",
       "    .dataframe thead th {\n",
       "        text-align: right;\n",
       "    }\n",
       "</style>\n",
       "<table border=\"1\" class=\"dataframe\">\n",
       "  <thead>\n",
       "    <tr style=\"text-align: right;\">\n",
       "      <th></th>\n",
       "      <th>ad_id</th>\n",
       "      <th>ad_manager_account</th>\n",
       "      <th>campaign_id</th>\n",
       "      <th>ad_group</th>\n",
       "      <th>ad</th>\n",
       "      <th>impressions</th>\n",
       "      <th>spend</th>\n",
       "      <th>comments</th>\n",
       "      <th>reactions</th>\n",
       "      <th>conversion</th>\n",
       "      <th>frequency</th>\n",
       "      <th>reach</th>\n",
       "      <th>clicks</th>\n",
       "      <th>video_views</th>\n",
       "      <th>cpc</th>\n",
       "      <th>cpm</th>\n",
       "      <th>engagement_rate</th>\n",
       "      <th>ctr</th>\n",
       "      <th>vtr</th>\n",
       "      <th>cpcv</th>\n",
       "      <th>cr</th>\n",
       "      <th>cost_per_conversion</th>\n",
       "      <th>reaction_rate</th>\n",
       "      <th>comment_rate</th>\n",
       "      <th>cost_per_engagement</th>\n",
       "    </tr>\n",
       "  </thead>\n",
       "  <tbody>\n",
       "    <tr>\n",
       "      <th>0</th>\n",
       "      <td>6199130066473</td>\n",
       "      <td>5596447667905116</td>\n",
       "      <td>24796506715492</td>\n",
       "      <td>24796514696292</td>\n",
       "      <td>828858729944</td>\n",
       "      <td>2648715</td>\n",
       "      <td>20625.00</td>\n",
       "      <td>0</td>\n",
       "      <td>0</td>\n",
       "      <td>0</td>\n",
       "      <td>4.006904</td>\n",
       "      <td>2643216</td>\n",
       "      <td>889</td>\n",
       "      <td>21133</td>\n",
       "      <td>53.277713</td>\n",
       "      <td>24.427104</td>\n",
       "      <td>0.0</td>\n",
       "      <td>0.001117</td>\n",
       "      <td>0.026891</td>\n",
       "      <td>3.356353</td>\n",
       "      <td>0.0</td>\n",
       "      <td>0.0</td>\n",
       "      <td>0.0</td>\n",
       "      <td>0.000000</td>\n",
       "      <td>0.000</td>\n",
       "    </tr>\n",
       "    <tr>\n",
       "      <th>1</th>\n",
       "      <td>6232556954873</td>\n",
       "      <td>33578686007430696</td>\n",
       "      <td>149560494894552</td>\n",
       "      <td>149581363667352</td>\n",
       "      <td>4973152379664</td>\n",
       "      <td>17639902</td>\n",
       "      <td>250000.00</td>\n",
       "      <td>18</td>\n",
       "      <td>0</td>\n",
       "      <td>0</td>\n",
       "      <td>24.106043</td>\n",
       "      <td>17554700</td>\n",
       "      <td>12140</td>\n",
       "      <td>286070</td>\n",
       "      <td>202.407150</td>\n",
       "      <td>339.263109</td>\n",
       "      <td>0.0</td>\n",
       "      <td>0.016404</td>\n",
       "      <td>0.389372</td>\n",
       "      <td>21.000486</td>\n",
       "      <td>0.0</td>\n",
       "      <td>0.0</td>\n",
       "      <td>0.0</td>\n",
       "      <td>0.000024</td>\n",
       "      <td>94908.635</td>\n",
       "    </tr>\n",
       "    <tr>\n",
       "      <th>2</th>\n",
       "      <td>6232557343273</td>\n",
       "      <td>33578686007430696</td>\n",
       "      <td>149560494894552</td>\n",
       "      <td>149581376233752</td>\n",
       "      <td>4973152379664</td>\n",
       "      <td>8430036</td>\n",
       "      <td>82330.16</td>\n",
       "      <td>0</td>\n",
       "      <td>0</td>\n",
       "      <td>0</td>\n",
       "      <td>24.586537</td>\n",
       "      <td>8338074</td>\n",
       "      <td>1896</td>\n",
       "      <td>74926</td>\n",
       "      <td>696.525141</td>\n",
       "      <td>219.923587</td>\n",
       "      <td>0.0</td>\n",
       "      <td>0.005539</td>\n",
       "      <td>0.209053</td>\n",
       "      <td>25.041800</td>\n",
       "      <td>0.0</td>\n",
       "      <td>0.0</td>\n",
       "      <td>0.0</td>\n",
       "      <td>0.000000</td>\n",
       "      <td>0.000</td>\n",
       "    </tr>\n",
       "    <tr>\n",
       "      <th>3</th>\n",
       "      <td>6234016736673</td>\n",
       "      <td>22385790671620464</td>\n",
       "      <td>99706996596368</td>\n",
       "      <td>99720917489168</td>\n",
       "      <td>3315434919776</td>\n",
       "      <td>4482223</td>\n",
       "      <td>37572.10</td>\n",
       "      <td>0</td>\n",
       "      <td>0</td>\n",
       "      <td>0</td>\n",
       "      <td>16.342177</td>\n",
       "      <td>4389942</td>\n",
       "      <td>1103</td>\n",
       "      <td>44962</td>\n",
       "      <td>369.445298</td>\n",
       "      <td>136.462383</td>\n",
       "      <td>0.0</td>\n",
       "      <td>0.003920</td>\n",
       "      <td>0.158572</td>\n",
       "      <td>13.828508</td>\n",
       "      <td>0.0</td>\n",
       "      <td>0.0</td>\n",
       "      <td>0.0</td>\n",
       "      <td>0.000000</td>\n",
       "      <td>0.000</td>\n",
       "    </tr>\n",
       "    <tr>\n",
       "      <th>4</th>\n",
       "      <td>6234017085473</td>\n",
       "      <td>22385790671620464</td>\n",
       "      <td>99706996596368</td>\n",
       "      <td>99720917489168</td>\n",
       "      <td>3315434919776</td>\n",
       "      <td>845387</td>\n",
       "      <td>6566.67</td>\n",
       "      <td>0</td>\n",
       "      <td>0</td>\n",
       "      <td>0</td>\n",
       "      <td>16.289020</td>\n",
       "      <td>830777</td>\n",
       "      <td>230</td>\n",
       "      <td>12718</td>\n",
       "      <td>271.221990</td>\n",
       "      <td>135.886090</td>\n",
       "      <td>0.0</td>\n",
       "      <td>0.004536</td>\n",
       "      <td>0.228824</td>\n",
       "      <td>9.800079</td>\n",
       "      <td>0.0</td>\n",
       "      <td>0.0</td>\n",
       "      <td>0.0</td>\n",
       "      <td>0.000000</td>\n",
       "      <td>0.000</td>\n",
       "    </tr>\n",
       "  </tbody>\n",
       "</table>\n",
       "</div>"
      ],
      "text/plain": [
       "           ad_id  ad_manager_account      campaign_id         ad_group  \\\n",
       "0  6199130066473    5596447667905116   24796506715492   24796514696292   \n",
       "1  6232556954873   33578686007430696  149560494894552  149581363667352   \n",
       "2  6232557343273   33578686007430696  149560494894552  149581376233752   \n",
       "3  6234016736673   22385790671620464   99706996596368   99720917489168   \n",
       "4  6234017085473   22385790671620464   99706996596368   99720917489168   \n",
       "\n",
       "              ad  impressions      spend  comments  reactions  conversion  \\\n",
       "0   828858729944      2648715   20625.00         0          0           0   \n",
       "1  4973152379664     17639902  250000.00        18          0           0   \n",
       "2  4973152379664      8430036   82330.16         0          0           0   \n",
       "3  3315434919776      4482223   37572.10         0          0           0   \n",
       "4  3315434919776       845387    6566.67         0          0           0   \n",
       "\n",
       "   frequency     reach  clicks  video_views         cpc         cpm  \\\n",
       "0   4.006904   2643216     889        21133   53.277713   24.427104   \n",
       "1  24.106043  17554700   12140       286070  202.407150  339.263109   \n",
       "2  24.586537   8338074    1896        74926  696.525141  219.923587   \n",
       "3  16.342177   4389942    1103        44962  369.445298  136.462383   \n",
       "4  16.289020    830777     230        12718  271.221990  135.886090   \n",
       "\n",
       "   engagement_rate       ctr       vtr       cpcv   cr  cost_per_conversion  \\\n",
       "0              0.0  0.001117  0.026891   3.356353  0.0                  0.0   \n",
       "1              0.0  0.016404  0.389372  21.000486  0.0                  0.0   \n",
       "2              0.0  0.005539  0.209053  25.041800  0.0                  0.0   \n",
       "3              0.0  0.003920  0.158572  13.828508  0.0                  0.0   \n",
       "4              0.0  0.004536  0.228824   9.800079  0.0                  0.0   \n",
       "\n",
       "   reaction_rate  comment_rate  cost_per_engagement  \n",
       "0            0.0      0.000000                0.000  \n",
       "1            0.0      0.000024            94908.635  \n",
       "2            0.0      0.000000                0.000  \n",
       "3            0.0      0.000000                0.000  \n",
       "4            0.0      0.000000                0.000  "
      ]
     },
     "execution_count": 39,
     "metadata": {},
     "output_type": "execute_result"
    }
   ],
   "source": [
    "df_performance_groupby_ad_id = df_performance.groupby('ad_id').sum(numeric_only=True).reset_index()\n",
    "\n",
    "df_performance_groupby_ad_id.head()"
   ]
  },
  {
   "cell_type": "code",
   "execution_count": 42,
   "metadata": {},
   "outputs": [
    {
     "data": {
      "text/html": [
       "<div>\n",
       "<style scoped>\n",
       "    .dataframe tbody tr th:only-of-type {\n",
       "        vertical-align: middle;\n",
       "    }\n",
       "\n",
       "    .dataframe tbody tr th {\n",
       "        vertical-align: top;\n",
       "    }\n",
       "\n",
       "    .dataframe thead th {\n",
       "        text-align: right;\n",
       "    }\n",
       "</style>\n",
       "<table border=\"1\" class=\"dataframe\">\n",
       "  <thead>\n",
       "    <tr style=\"text-align: right;\">\n",
       "      <th></th>\n",
       "      <th>ad_id</th>\n",
       "      <th>ad_manager_account</th>\n",
       "      <th>campaign_id</th>\n",
       "      <th>ad_group</th>\n",
       "      <th>ad</th>\n",
       "      <th>impressions</th>\n",
       "      <th>spend</th>\n",
       "      <th>comments</th>\n",
       "      <th>reactions</th>\n",
       "      <th>conversion</th>\n",
       "      <th>frequency</th>\n",
       "      <th>reach</th>\n",
       "      <th>clicks</th>\n",
       "      <th>video_views</th>\n",
       "      <th>cpc</th>\n",
       "      <th>cpm</th>\n",
       "      <th>engagement_rate</th>\n",
       "      <th>ctr</th>\n",
       "      <th>vtr</th>\n",
       "      <th>cpcv</th>\n",
       "      <th>cr</th>\n",
       "      <th>cost_per_conversion</th>\n",
       "      <th>reaction_rate</th>\n",
       "      <th>comment_rate</th>\n",
       "      <th>cost_per_engagement</th>\n",
       "      <th>assetId</th>\n",
       "    </tr>\n",
       "  </thead>\n",
       "  <tbody>\n",
       "    <tr>\n",
       "      <th>0</th>\n",
       "      <td>6199130066473</td>\n",
       "      <td>5596447667905116</td>\n",
       "      <td>24796506715492</td>\n",
       "      <td>24796514696292</td>\n",
       "      <td>828858729944</td>\n",
       "      <td>2648715</td>\n",
       "      <td>20625.00</td>\n",
       "      <td>0</td>\n",
       "      <td>0</td>\n",
       "      <td>0</td>\n",
       "      <td>4.006904</td>\n",
       "      <td>2643216</td>\n",
       "      <td>889</td>\n",
       "      <td>21133</td>\n",
       "      <td>53.277713</td>\n",
       "      <td>24.427104</td>\n",
       "      <td>0.0</td>\n",
       "      <td>0.001117</td>\n",
       "      <td>0.026891</td>\n",
       "      <td>3.356353</td>\n",
       "      <td>0.0</td>\n",
       "      <td>0.0</td>\n",
       "      <td>0.0</td>\n",
       "      <td>0.000000</td>\n",
       "      <td>0.000</td>\n",
       "      <td>01GNWKENHR87JK700X6175JRTP</td>\n",
       "    </tr>\n",
       "    <tr>\n",
       "      <th>1</th>\n",
       "      <td>6232556954873</td>\n",
       "      <td>33578686007430696</td>\n",
       "      <td>149560494894552</td>\n",
       "      <td>149581363667352</td>\n",
       "      <td>4973152379664</td>\n",
       "      <td>17639902</td>\n",
       "      <td>250000.00</td>\n",
       "      <td>18</td>\n",
       "      <td>0</td>\n",
       "      <td>0</td>\n",
       "      <td>24.106043</td>\n",
       "      <td>17554700</td>\n",
       "      <td>12140</td>\n",
       "      <td>286070</td>\n",
       "      <td>202.407150</td>\n",
       "      <td>339.263109</td>\n",
       "      <td>0.0</td>\n",
       "      <td>0.016404</td>\n",
       "      <td>0.389372</td>\n",
       "      <td>21.000486</td>\n",
       "      <td>0.0</td>\n",
       "      <td>0.0</td>\n",
       "      <td>0.0</td>\n",
       "      <td>0.000024</td>\n",
       "      <td>94908.635</td>\n",
       "      <td>01GNWKENG6ZSRK6WWQWV0XCVWK</td>\n",
       "    </tr>\n",
       "    <tr>\n",
       "      <th>2</th>\n",
       "      <td>6232557343273</td>\n",
       "      <td>33578686007430696</td>\n",
       "      <td>149560494894552</td>\n",
       "      <td>149581376233752</td>\n",
       "      <td>4973152379664</td>\n",
       "      <td>8430036</td>\n",
       "      <td>82330.16</td>\n",
       "      <td>0</td>\n",
       "      <td>0</td>\n",
       "      <td>0</td>\n",
       "      <td>24.586537</td>\n",
       "      <td>8338074</td>\n",
       "      <td>1896</td>\n",
       "      <td>74926</td>\n",
       "      <td>696.525141</td>\n",
       "      <td>219.923587</td>\n",
       "      <td>0.0</td>\n",
       "      <td>0.005539</td>\n",
       "      <td>0.209053</td>\n",
       "      <td>25.041800</td>\n",
       "      <td>0.0</td>\n",
       "      <td>0.0</td>\n",
       "      <td>0.0</td>\n",
       "      <td>0.000000</td>\n",
       "      <td>0.000</td>\n",
       "      <td>01GNWKENJGD8MER2539YBTCQVA</td>\n",
       "    </tr>\n",
       "    <tr>\n",
       "      <th>3</th>\n",
       "      <td>6234016736673</td>\n",
       "      <td>22385790671620464</td>\n",
       "      <td>99706996596368</td>\n",
       "      <td>99720917489168</td>\n",
       "      <td>3315434919776</td>\n",
       "      <td>4482223</td>\n",
       "      <td>37572.10</td>\n",
       "      <td>0</td>\n",
       "      <td>0</td>\n",
       "      <td>0</td>\n",
       "      <td>16.342177</td>\n",
       "      <td>4389942</td>\n",
       "      <td>1103</td>\n",
       "      <td>44962</td>\n",
       "      <td>369.445298</td>\n",
       "      <td>136.462383</td>\n",
       "      <td>0.0</td>\n",
       "      <td>0.003920</td>\n",
       "      <td>0.158572</td>\n",
       "      <td>13.828508</td>\n",
       "      <td>0.0</td>\n",
       "      <td>0.0</td>\n",
       "      <td>0.0</td>\n",
       "      <td>0.000000</td>\n",
       "      <td>0.000</td>\n",
       "      <td>01GNWKENGFAS92AY9QA8WMGZ4S</td>\n",
       "    </tr>\n",
       "    <tr>\n",
       "      <th>4</th>\n",
       "      <td>6234017085473</td>\n",
       "      <td>22385790671620464</td>\n",
       "      <td>99706996596368</td>\n",
       "      <td>99720917489168</td>\n",
       "      <td>3315434919776</td>\n",
       "      <td>845387</td>\n",
       "      <td>6566.67</td>\n",
       "      <td>0</td>\n",
       "      <td>0</td>\n",
       "      <td>0</td>\n",
       "      <td>16.289020</td>\n",
       "      <td>830777</td>\n",
       "      <td>230</td>\n",
       "      <td>12718</td>\n",
       "      <td>271.221990</td>\n",
       "      <td>135.886090</td>\n",
       "      <td>0.0</td>\n",
       "      <td>0.004536</td>\n",
       "      <td>0.228824</td>\n",
       "      <td>9.800079</td>\n",
       "      <td>0.0</td>\n",
       "      <td>0.0</td>\n",
       "      <td>0.0</td>\n",
       "      <td>0.000000</td>\n",
       "      <td>0.000</td>\n",
       "      <td>01GNWKENJ2KW7MZP8Q5SS2X9B4</td>\n",
       "    </tr>\n",
       "  </tbody>\n",
       "</table>\n",
       "</div>"
      ],
      "text/plain": [
       "           ad_id  ad_manager_account      campaign_id         ad_group  \\\n",
       "0  6199130066473    5596447667905116   24796506715492   24796514696292   \n",
       "1  6232556954873   33578686007430696  149560494894552  149581363667352   \n",
       "2  6232557343273   33578686007430696  149560494894552  149581376233752   \n",
       "3  6234016736673   22385790671620464   99706996596368   99720917489168   \n",
       "4  6234017085473   22385790671620464   99706996596368   99720917489168   \n",
       "\n",
       "              ad  impressions      spend  comments  reactions  conversion  \\\n",
       "0   828858729944      2648715   20625.00         0          0           0   \n",
       "1  4973152379664     17639902  250000.00        18          0           0   \n",
       "2  4973152379664      8430036   82330.16         0          0           0   \n",
       "3  3315434919776      4482223   37572.10         0          0           0   \n",
       "4  3315434919776       845387    6566.67         0          0           0   \n",
       "\n",
       "   frequency     reach  clicks  video_views         cpc         cpm  \\\n",
       "0   4.006904   2643216     889        21133   53.277713   24.427104   \n",
       "1  24.106043  17554700   12140       286070  202.407150  339.263109   \n",
       "2  24.586537   8338074    1896        74926  696.525141  219.923587   \n",
       "3  16.342177   4389942    1103        44962  369.445298  136.462383   \n",
       "4  16.289020    830777     230        12718  271.221990  135.886090   \n",
       "\n",
       "   engagement_rate       ctr       vtr       cpcv   cr  cost_per_conversion  \\\n",
       "0              0.0  0.001117  0.026891   3.356353  0.0                  0.0   \n",
       "1              0.0  0.016404  0.389372  21.000486  0.0                  0.0   \n",
       "2              0.0  0.005539  0.209053  25.041800  0.0                  0.0   \n",
       "3              0.0  0.003920  0.158572  13.828508  0.0                  0.0   \n",
       "4              0.0  0.004536  0.228824   9.800079  0.0                  0.0   \n",
       "\n",
       "   reaction_rate  comment_rate  cost_per_engagement  \\\n",
       "0            0.0      0.000000                0.000   \n",
       "1            0.0      0.000024            94908.635   \n",
       "2            0.0      0.000000                0.000   \n",
       "3            0.0      0.000000                0.000   \n",
       "4            0.0      0.000000                0.000   \n",
       "\n",
       "                      assetId  \n",
       "0  01GNWKENHR87JK700X6175JRTP  \n",
       "1  01GNWKENG6ZSRK6WWQWV0XCVWK  \n",
       "2  01GNWKENJGD8MER2539YBTCQVA  \n",
       "3  01GNWKENGFAS92AY9QA8WMGZ4S  \n",
       "4  01GNWKENJ2KW7MZP8Q5SS2X9B4  "
      ]
     },
     "execution_count": 42,
     "metadata": {},
     "output_type": "execute_result"
    }
   ],
   "source": [
    "df_performance_ads = pd.merge(df_performance_groupby_ad_id, df_ads_without_carr[['ad_id', 'assetId']], on='ad_id')\n",
    "\n",
    "df_performance_ads.head()"
   ]
  },
  {
   "cell_type": "code",
   "execution_count": 43,
   "metadata": {},
   "outputs": [
    {
     "data": {
      "text/plain": [
       "(398, 99)"
      ]
     },
     "execution_count": 43,
     "metadata": {},
     "output_type": "execute_result"
    }
   ],
   "source": [
    "df_performance_ads.ad_id.nunique(), df_performance_ads.assetId.nunique()"
   ]
  },
  {
   "cell_type": "code",
   "execution_count": 47,
   "metadata": {},
   "outputs": [],
   "source": [
    "df_tags_branding = pd.merge(df_tags, df_branding, how='left', on='assetId')"
   ]
  },
  {
   "cell_type": "code",
   "execution_count": 48,
   "metadata": {},
   "outputs": [],
   "source": [
    "df_tags_branding_performance_ads = pd.merge(df_tags_branding, df_performance_ads, on='assetId')"
   ]
  },
  {
   "cell_type": "code",
   "execution_count": 49,
   "metadata": {},
   "outputs": [
    {
     "data": {
      "text/plain": [
       "(398, 99)"
      ]
     },
     "execution_count": 49,
     "metadata": {},
     "output_type": "execute_result"
    }
   ],
   "source": [
    "df_tags_branding_performance_ads.ad_id.nunique(), df_tags_branding_performance_ads.assetId.nunique()"
   ]
  },
  {
   "cell_type": "code",
   "execution_count": 14,
   "metadata": {},
   "outputs": [],
   "source": [
    "df_tags_branding_performance_ads.to_csv('data/sedal_4_tables_merged.csv', index=False)"
   ]
  },
  {
   "cell_type": "code",
   "execution_count": 23,
   "metadata": {},
   "outputs": [
    {
     "data": {
      "text/plain": [
       "(0.0, 100000.0)"
      ]
     },
     "execution_count": 23,
     "metadata": {},
     "output_type": "execute_result"
    },
    {
     "data": {
      "image/png": "[encoded data removed]",
      "text/plain": [
       "<Figure size 640x480 with 1 Axes>"
      ]
     },
     "metadata": {},
     "output_type": "display_data"
    }
   ],
   "source": [
    "import matplotlib.pyplot as plt\n",
    "df_performance.hist('impressions', bins=500)\n",
    "plt.xlim(0,100000)"
   ]
  },
  {
   "cell_type": "code",
   "execution_count": 112,
   "metadata": {},
   "outputs": [
    {
     "data": {
      "text/plain": [
       "array(['creativity', 'bright', 'graphic design', ..., 'handmade', 'luna',\n",
       "       'el luna park'], dtype=object)"
      ]
     },
     "execution_count": 112,
     "metadata": {},
     "output_type": "execute_result"
    }
   ],
   "source": [
    "df_tags.name.unique()"
   ]
  }
 ],
 "metadata": {
  "kernelspec": {
   "display_name": "Python 3",
   "language": "python",
   "name": "python3"
  },
  "language_info": {
   "codemirror_mode": {
    "name": "ipython",
    "version": 3
   },
   "file_extension": ".py",
   "mimetype": "text/x-python",
   "name": "python",
   "nbconvert_exporter": "python",
   "pygments_lexer": "ipython3",
   "version": "3.11.0"
  },
  "orig_nbformat": 4,
  "vscode": {
   "interpreter": {
    "hash": "05c54f09ff8740622e897cbb6153cc9cb4cff37653c49d5b37c66e9bfcc3f46a"
   }
  }
 },
 "nbformat": 4,
 "nbformat_minor": 2
}
