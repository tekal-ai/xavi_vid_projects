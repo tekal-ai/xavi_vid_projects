{
 "cells": [
  {
   "cell_type": "code",
   "execution_count": 1,
   "metadata": {},
   "outputs": [],
   "source": [
    "import numpy as np\n",
    "import pandas as pd\n",
    "pd.pandas.set_option('display.max_columns', None)"
   ]
  },
  {
   "cell_type": "code",
   "execution_count": 2,
   "metadata": {},
   "outputs": [
    {
     "ename": "ModuleNotFoundError",
     "evalue": "No module named 'sqlalchemy'",
     "output_type": "error",
     "traceback": [
      "\u001b[1;31m---------------------------------------------------------------------------\u001b[0m",
      "\u001b[1;31mModuleNotFoundError\u001b[0m                       Traceback (most recent call last)",
      "Cell \u001b[1;32mIn[2], line 2\u001b[0m\n\u001b[0;32m      1\u001b[0m \u001b[39m## Sample connection\u001b[39;00m\n\u001b[1;32m----> 2\u001b[0m \u001b[39mfrom\u001b[39;00m \u001b[39msqlalchemy\u001b[39;00m \u001b[39mimport\u001b[39;00m create_engine\n\u001b[0;32m      4\u001b[0m host \u001b[39m=\u001b[39m \u001b[39m\"\u001b[39m\u001b[39mcreative-analytics-db.csmwsaq07qyi.us-east-1.rds.amazonaws.com\u001b[39m\u001b[39m\"\u001b[39m\n\u001b[0;32m      5\u001b[0m port \u001b[39m=\u001b[39m \u001b[39m3306\u001b[39m\n",
      "\u001b[1;31mModuleNotFoundError\u001b[0m: No module named 'sqlalchemy'"
     ]
    }
   ],
   "source": [
    "## Sample connection\n",
    "from sqlalchemy import create_engine\n",
    "\n",
    "host = \"creative-analytics-db.csmwsaq07qyi.us-east-1.rds.amazonaws.com\"\n",
    "port = 3306\n",
    "user = \"admin\"\n",
    "password = \"creativeanalytics\"\n",
    "\n",
    "engine = create_engine(f\"mysql://{user}:{password}@{host}:{port}/creative_analytics\")"
   ]
  },
  {
   "cell_type": "code",
   "execution_count": 3,
   "metadata": {},
   "outputs": [
    {
     "data": {
      "text/html": [
       "<div>\n",
       "<style scoped>\n",
       "    .dataframe tbody tr th:only-of-type {\n",
       "        vertical-align: middle;\n",
       "    }\n",
       "\n",
       "    .dataframe tbody tr th {\n",
       "        vertical-align: top;\n",
       "    }\n",
       "\n",
       "    .dataframe thead th {\n",
       "        text-align: right;\n",
       "    }\n",
       "</style>\n",
       "<table border=\"1\" class=\"dataframe\">\n",
       "  <thead>\n",
       "    <tr style=\"text-align: right;\">\n",
       "      <th></th>\n",
       "      <th>Tables_in_creative_analytics</th>\n",
       "    </tr>\n",
       "  </thead>\n",
       "  <tbody>\n",
       "    <tr>\n",
       "      <th>0</th>\n",
       "      <td>20221220_hair_us_branding_metrics</td>\n",
       "    </tr>\n",
       "    <tr>\n",
       "      <th>1</th>\n",
       "      <td>20221220_hair_us_tiktok_engagement</td>\n",
       "    </tr>\n",
       "    <tr>\n",
       "      <th>2</th>\n",
       "      <td>20221220_hair_us_tiktok_tags</td>\n",
       "    </tr>\n",
       "    <tr>\n",
       "      <th>3</th>\n",
       "      <td>20223012_CORRELATIONS_aggregate_asset_data</td>\n",
       "    </tr>\n",
       "    <tr>\n",
       "      <th>4</th>\n",
       "      <td>20223012_CORRELATIONS_asset_data</td>\n",
       "    </tr>\n",
       "    <tr>\n",
       "      <th>5</th>\n",
       "      <td>20223012_CORRELATIONS_audience_data</td>\n",
       "    </tr>\n",
       "    <tr>\n",
       "      <th>6</th>\n",
       "      <td>20223012_CORRELATIONS_framewise_branding_metrics</td>\n",
       "    </tr>\n",
       "    <tr>\n",
       "      <th>7</th>\n",
       "      <td>20223012_CORRELATIONS_other_metrics</td>\n",
       "    </tr>\n",
       "    <tr>\n",
       "      <th>8</th>\n",
       "      <td>20230102_collaborativeads_branding_metrics</td>\n",
       "    </tr>\n",
       "    <tr>\n",
       "      <th>9</th>\n",
       "      <td>20230102_collaborativeads_data</td>\n",
       "    </tr>\n",
       "    <tr>\n",
       "      <th>10</th>\n",
       "      <td>20230102_collaborativeads_tags</td>\n",
       "    </tr>\n",
       "    <tr>\n",
       "      <th>11</th>\n",
       "      <td>20230103_sedal_ad_performance</td>\n",
       "    </tr>\n",
       "    <tr>\n",
       "      <th>12</th>\n",
       "      <td>20230103_sedal_ads</td>\n",
       "    </tr>\n",
       "    <tr>\n",
       "      <th>13</th>\n",
       "      <td>20230103_sedal_branding_metrics</td>\n",
       "    </tr>\n",
       "    <tr>\n",
       "      <th>14</th>\n",
       "      <td>20230103_sedal_tags</td>\n",
       "    </tr>\n",
       "    <tr>\n",
       "      <th>15</th>\n",
       "      <td>asset_text</td>\n",
       "    </tr>\n",
       "    <tr>\n",
       "      <th>16</th>\n",
       "      <td>tag</td>\n",
       "    </tr>\n",
       "    <tr>\n",
       "      <th>17</th>\n",
       "      <td>tag_coordinates</td>\n",
       "    </tr>\n",
       "  </tbody>\n",
       "</table>\n",
       "</div>"
      ],
      "text/plain": [
       "                        Tables_in_creative_analytics\n",
       "0                  20221220_hair_us_branding_metrics\n",
       "1                 20221220_hair_us_tiktok_engagement\n",
       "2                       20221220_hair_us_tiktok_tags\n",
       "3         20223012_CORRELATIONS_aggregate_asset_data\n",
       "4                   20223012_CORRELATIONS_asset_data\n",
       "5                20223012_CORRELATIONS_audience_data\n",
       "6   20223012_CORRELATIONS_framewise_branding_metrics\n",
       "7                20223012_CORRELATIONS_other_metrics\n",
       "8         20230102_collaborativeads_branding_metrics\n",
       "9                     20230102_collaborativeads_data\n",
       "10                    20230102_collaborativeads_tags\n",
       "11                     20230103_sedal_ad_performance\n",
       "12                                20230103_sedal_ads\n",
       "13                   20230103_sedal_branding_metrics\n",
       "14                               20230103_sedal_tags\n",
       "15                                        asset_text\n",
       "16                                               tag\n",
       "17                                   tag_coordinates"
      ]
     },
     "execution_count": 3,
     "metadata": {},
     "output_type": "execute_result"
    }
   ],
   "source": [
    "pd.read_sql(\"show tables\", con=engine)"
   ]
  },
  {
   "cell_type": "code",
   "execution_count": 4,
   "metadata": {},
   "outputs": [],
   "source": [
    "table = '20230103_sedal_ad_performance'\n",
    "\n",
    "df_performance = pd.read_sql(f\"SELECT * FROM {table}\", con=engine)\n",
    "#df_ad_performance.to_csv('data/sedal_ad_performance.csv', index=False)\n",
    "\n",
    "#------------------------------------------------------------------------\n",
    "\n",
    "table = '20230103_sedal_ads'\n",
    "\n",
    "df_ads = pd.read_sql(f\"SELECT * FROM {table}\", con=engine)\n",
    "#df_ads.to_csv('data/sedal_ads.csv', index=False)\n",
    "\n",
    "#------------------------------------------------------------------------\n",
    "\n",
    "table = '20230103_sedal_branding_metrics'\n",
    "\n",
    "df_branding = pd.read_sql(f\"SELECT * FROM {table}\", con=engine)\n",
    "#df_branding_metrics.to_csv('data/sedal_branding_metrics.csv', index=False)\n",
    "\n",
    "#------------------------------------------------------------------------\n",
    "\n",
    "table = '20230103_sedal_tags'\n",
    "df_tags = pd.read_sql(f\"SELECT * FROM {table}\", con=engine)\n",
    "#df_tags.to_csv('data/sedal_tags.csv', index=False)"
   ]
  },
  {
   "cell_type": "code",
   "execution_count": 5,
   "metadata": {},
   "outputs": [
    {
     "name": "stderr",
     "output_type": "stream",
     "text": [
      "C:\\Users\\Xavi\\AppData\\Local\\Temp\\ipykernel_4124\\3429146161.py:1: FutureWarning: The default value of numeric_only in DataFrameGroupBy.sum is deprecated. In a future version, numeric_only will default to False. Either specify numeric_only or select only columns which should be valid for the function.\n",
      "  df_performance.groupby('ad_id').sum()\n"
     ]
    },
    {
     "data": {
      "text/html": [
       "<div>\n",
       "<style scoped>\n",
       "    .dataframe tbody tr th:only-of-type {\n",
       "        vertical-align: middle;\n",
       "    }\n",
       "\n",
       "    .dataframe tbody tr th {\n",
       "        vertical-align: top;\n",
       "    }\n",
       "\n",
       "    .dataframe thead th {\n",
       "        text-align: right;\n",
       "    }\n",
       "</style>\n",
       "<table border=\"1\" class=\"dataframe\">\n",
       "  <thead>\n",
       "    <tr style=\"text-align: right;\">\n",
       "      <th></th>\n",
       "      <th>ctr</th>\n",
       "      <th>vtr</th>\n",
       "      <th>cpcv</th>\n",
       "      <th>cr</th>\n",
       "      <th>cost_per_conversion</th>\n",
       "      <th>reaction_rate</th>\n",
       "      <th>comment_rate</th>\n",
       "      <th>cost_per_engagement</th>\n",
       "    </tr>\n",
       "    <tr>\n",
       "      <th>ad_id</th>\n",
       "      <th></th>\n",
       "      <th></th>\n",
       "      <th></th>\n",
       "      <th></th>\n",
       "      <th></th>\n",
       "      <th></th>\n",
       "      <th></th>\n",
       "      <th></th>\n",
       "    </tr>\n",
       "  </thead>\n",
       "  <tbody>\n",
       "    <tr>\n",
       "      <th>6199130066473</th>\n",
       "      <td>0.001117</td>\n",
       "      <td>0.026891</td>\n",
       "      <td>3.356353</td>\n",
       "      <td>0.0</td>\n",
       "      <td>0.0</td>\n",
       "      <td>0.0</td>\n",
       "      <td>0.000000</td>\n",
       "      <td>0.000</td>\n",
       "    </tr>\n",
       "    <tr>\n",
       "      <th>6232556954873</th>\n",
       "      <td>0.016404</td>\n",
       "      <td>0.389372</td>\n",
       "      <td>21.000486</td>\n",
       "      <td>0.0</td>\n",
       "      <td>0.0</td>\n",
       "      <td>0.0</td>\n",
       "      <td>0.000024</td>\n",
       "      <td>94908.635</td>\n",
       "    </tr>\n",
       "    <tr>\n",
       "      <th>6232557343273</th>\n",
       "      <td>0.005539</td>\n",
       "      <td>0.209053</td>\n",
       "      <td>25.041800</td>\n",
       "      <td>0.0</td>\n",
       "      <td>0.0</td>\n",
       "      <td>0.0</td>\n",
       "      <td>0.000000</td>\n",
       "      <td>0.000</td>\n",
       "    </tr>\n",
       "    <tr>\n",
       "      <th>6234016736673</th>\n",
       "      <td>0.003920</td>\n",
       "      <td>0.158572</td>\n",
       "      <td>13.828508</td>\n",
       "      <td>0.0</td>\n",
       "      <td>0.0</td>\n",
       "      <td>0.0</td>\n",
       "      <td>0.000000</td>\n",
       "      <td>0.000</td>\n",
       "    </tr>\n",
       "    <tr>\n",
       "      <th>6234017085473</th>\n",
       "      <td>0.004536</td>\n",
       "      <td>0.228824</td>\n",
       "      <td>9.800079</td>\n",
       "      <td>0.0</td>\n",
       "      <td>0.0</td>\n",
       "      <td>0.0</td>\n",
       "      <td>0.000000</td>\n",
       "      <td>0.000</td>\n",
       "    </tr>\n",
       "    <tr>\n",
       "      <th>...</th>\n",
       "      <td>...</td>\n",
       "      <td>...</td>\n",
       "      <td>...</td>\n",
       "      <td>...</td>\n",
       "      <td>...</td>\n",
       "      <td>...</td>\n",
       "      <td>...</td>\n",
       "      <td>...</td>\n",
       "    </tr>\n",
       "    <tr>\n",
       "      <th>6336249713273</th>\n",
       "      <td>0.028205</td>\n",
       "      <td>0.000000</td>\n",
       "      <td>0.000000</td>\n",
       "      <td>0.0</td>\n",
       "      <td>0.0</td>\n",
       "      <td>0.0</td>\n",
       "      <td>0.000026</td>\n",
       "      <td>23791.280</td>\n",
       "    </tr>\n",
       "    <tr>\n",
       "      <th>6336250279073</th>\n",
       "      <td>0.022025</td>\n",
       "      <td>0.000000</td>\n",
       "      <td>0.000000</td>\n",
       "      <td>0.0</td>\n",
       "      <td>0.0</td>\n",
       "      <td>0.0</td>\n",
       "      <td>0.000000</td>\n",
       "      <td>0.000</td>\n",
       "    </tr>\n",
       "    <tr>\n",
       "      <th>6336251362073</th>\n",
       "      <td>0.010912</td>\n",
       "      <td>0.000000</td>\n",
       "      <td>0.000000</td>\n",
       "      <td>0.0</td>\n",
       "      <td>0.0</td>\n",
       "      <td>0.0</td>\n",
       "      <td>0.000008</td>\n",
       "      <td>11725.860</td>\n",
       "    </tr>\n",
       "    <tr>\n",
       "      <th>6336251747073</th>\n",
       "      <td>0.022041</td>\n",
       "      <td>0.000000</td>\n",
       "      <td>0.000000</td>\n",
       "      <td>0.0</td>\n",
       "      <td>0.0</td>\n",
       "      <td>0.0</td>\n",
       "      <td>0.000075</td>\n",
       "      <td>39926.590</td>\n",
       "    </tr>\n",
       "    <tr>\n",
       "      <th>6336252500273</th>\n",
       "      <td>0.008996</td>\n",
       "      <td>0.000000</td>\n",
       "      <td>0.000000</td>\n",
       "      <td>0.0</td>\n",
       "      <td>0.0</td>\n",
       "      <td>0.0</td>\n",
       "      <td>0.000000</td>\n",
       "      <td>0.000</td>\n",
       "    </tr>\n",
       "  </tbody>\n",
       "</table>\n",
       "<p>552 rows × 8 columns</p>\n",
       "</div>"
      ],
      "text/plain": [
       "                    ctr       vtr       cpcv   cr  cost_per_conversion  \\\n",
       "ad_id                                                                    \n",
       "6199130066473  0.001117  0.026891   3.356353  0.0                  0.0   \n",
       "6232556954873  0.016404  0.389372  21.000486  0.0                  0.0   \n",
       "6232557343273  0.005539  0.209053  25.041800  0.0                  0.0   \n",
       "6234016736673  0.003920  0.158572  13.828508  0.0                  0.0   \n",
       "6234017085473  0.004536  0.228824   9.800079  0.0                  0.0   \n",
       "...                 ...       ...        ...  ...                  ...   \n",
       "6336249713273  0.028205  0.000000   0.000000  0.0                  0.0   \n",
       "6336250279073  0.022025  0.000000   0.000000  0.0                  0.0   \n",
       "6336251362073  0.010912  0.000000   0.000000  0.0                  0.0   \n",
       "6336251747073  0.022041  0.000000   0.000000  0.0                  0.0   \n",
       "6336252500273  0.008996  0.000000   0.000000  0.0                  0.0   \n",
       "\n",
       "               reaction_rate  comment_rate  cost_per_engagement  \n",
       "ad_id                                                            \n",
       "6199130066473            0.0      0.000000                0.000  \n",
       "6232556954873            0.0      0.000024            94908.635  \n",
       "6232557343273            0.0      0.000000                0.000  \n",
       "6234016736673            0.0      0.000000                0.000  \n",
       "6234017085473            0.0      0.000000                0.000  \n",
       "...                      ...           ...                  ...  \n",
       "6336249713273            0.0      0.000026            23791.280  \n",
       "6336250279073            0.0      0.000000                0.000  \n",
       "6336251362073            0.0      0.000008            11725.860  \n",
       "6336251747073            0.0      0.000075            39926.590  \n",
       "6336252500273            0.0      0.000000                0.000  \n",
       "\n",
       "[552 rows x 8 columns]"
      ]
     },
     "execution_count": 5,
     "metadata": {},
     "output_type": "execute_result"
    }
   ],
   "source": [
    "df_performance.groupby('ad_id').sum()"
   ]
  },
  {
   "cell_type": "code",
   "execution_count": 56,
   "metadata": {},
   "outputs": [
    {
     "data": {
      "text/html": [
       "<div>\n",
       "<style scoped>\n",
       "    .dataframe tbody tr th:only-of-type {\n",
       "        vertical-align: middle;\n",
       "    }\n",
       "\n",
       "    .dataframe tbody tr th {\n",
       "        vertical-align: top;\n",
       "    }\n",
       "\n",
       "    .dataframe thead th {\n",
       "        text-align: right;\n",
       "    }\n",
       "</style>\n",
       "<table border=\"1\" class=\"dataframe\">\n",
       "  <thead>\n",
       "    <tr style=\"text-align: right;\">\n",
       "      <th></th>\n",
       "      <th>ad_id</th>\n",
       "      <th>ctr</th>\n",
       "      <th>vtr</th>\n",
       "      <th>cpcv</th>\n",
       "      <th>cr</th>\n",
       "      <th>cost_per_conversion</th>\n",
       "      <th>reaction_rate</th>\n",
       "      <th>comment_rate</th>\n",
       "      <th>cost_per_engagement</th>\n",
       "      <th>assetId</th>\n",
       "    </tr>\n",
       "  </thead>\n",
       "  <tbody>\n",
       "    <tr>\n",
       "      <th>0</th>\n",
       "      <td>6199130066473</td>\n",
       "      <td>0.001117</td>\n",
       "      <td>0.026891</td>\n",
       "      <td>3.356353</td>\n",
       "      <td>0.0</td>\n",
       "      <td>0.0</td>\n",
       "      <td>0.0</td>\n",
       "      <td>0.000000</td>\n",
       "      <td>0.000</td>\n",
       "      <td>01GNWKENHR87JK700X6175JRTP</td>\n",
       "    </tr>\n",
       "    <tr>\n",
       "      <th>1</th>\n",
       "      <td>6232556954873</td>\n",
       "      <td>0.016404</td>\n",
       "      <td>0.389372</td>\n",
       "      <td>21.000486</td>\n",
       "      <td>0.0</td>\n",
       "      <td>0.0</td>\n",
       "      <td>0.0</td>\n",
       "      <td>0.000024</td>\n",
       "      <td>94908.635</td>\n",
       "      <td>01GNWKENG6ZSRK6WWQWV0XCVWK</td>\n",
       "    </tr>\n",
       "    <tr>\n",
       "      <th>2</th>\n",
       "      <td>6232557343273</td>\n",
       "      <td>0.005539</td>\n",
       "      <td>0.209053</td>\n",
       "      <td>25.041800</td>\n",
       "      <td>0.0</td>\n",
       "      <td>0.0</td>\n",
       "      <td>0.0</td>\n",
       "      <td>0.000000</td>\n",
       "      <td>0.000</td>\n",
       "      <td>01GNWKENJGD8MER2539YBTCQVA</td>\n",
       "    </tr>\n",
       "    <tr>\n",
       "      <th>3</th>\n",
       "      <td>6234016736673</td>\n",
       "      <td>0.003920</td>\n",
       "      <td>0.158572</td>\n",
       "      <td>13.828508</td>\n",
       "      <td>0.0</td>\n",
       "      <td>0.0</td>\n",
       "      <td>0.0</td>\n",
       "      <td>0.000000</td>\n",
       "      <td>0.000</td>\n",
       "      <td>01GNWKENGFAS92AY9QA8WMGZ4S</td>\n",
       "    </tr>\n",
       "    <tr>\n",
       "      <th>4</th>\n",
       "      <td>6234017085473</td>\n",
       "      <td>0.004536</td>\n",
       "      <td>0.228824</td>\n",
       "      <td>9.800079</td>\n",
       "      <td>0.0</td>\n",
       "      <td>0.0</td>\n",
       "      <td>0.0</td>\n",
       "      <td>0.000000</td>\n",
       "      <td>0.000</td>\n",
       "      <td>01GNWKENJ2KW7MZP8Q5SS2X9B4</td>\n",
       "    </tr>\n",
       "    <tr>\n",
       "      <th>...</th>\n",
       "      <td>...</td>\n",
       "      <td>...</td>\n",
       "      <td>...</td>\n",
       "      <td>...</td>\n",
       "      <td>...</td>\n",
       "      <td>...</td>\n",
       "      <td>...</td>\n",
       "      <td>...</td>\n",
       "      <td>...</td>\n",
       "      <td>...</td>\n",
       "    </tr>\n",
       "    <tr>\n",
       "      <th>547</th>\n",
       "      <td>6336249713273</td>\n",
       "      <td>0.028205</td>\n",
       "      <td>0.000000</td>\n",
       "      <td>0.000000</td>\n",
       "      <td>0.0</td>\n",
       "      <td>0.0</td>\n",
       "      <td>0.0</td>\n",
       "      <td>0.000026</td>\n",
       "      <td>23791.280</td>\n",
       "      <td>01GNWH8EQV0THC127XTYFQ4PE1</td>\n",
       "    </tr>\n",
       "    <tr>\n",
       "      <th>548</th>\n",
       "      <td>6336250279073</td>\n",
       "      <td>0.022025</td>\n",
       "      <td>0.000000</td>\n",
       "      <td>0.000000</td>\n",
       "      <td>0.0</td>\n",
       "      <td>0.0</td>\n",
       "      <td>0.0</td>\n",
       "      <td>0.000000</td>\n",
       "      <td>0.000</td>\n",
       "      <td>01GNWH8EQV0THC127XTYFQ4PE1</td>\n",
       "    </tr>\n",
       "    <tr>\n",
       "      <th>549</th>\n",
       "      <td>6336251362073</td>\n",
       "      <td>0.010912</td>\n",
       "      <td>0.000000</td>\n",
       "      <td>0.000000</td>\n",
       "      <td>0.0</td>\n",
       "      <td>0.0</td>\n",
       "      <td>0.0</td>\n",
       "      <td>0.000008</td>\n",
       "      <td>11725.860</td>\n",
       "      <td>01GNWHDQCGE1RQDP66E5MHP027</td>\n",
       "    </tr>\n",
       "    <tr>\n",
       "      <th>550</th>\n",
       "      <td>6336251747073</td>\n",
       "      <td>0.022041</td>\n",
       "      <td>0.000000</td>\n",
       "      <td>0.000000</td>\n",
       "      <td>0.0</td>\n",
       "      <td>0.0</td>\n",
       "      <td>0.0</td>\n",
       "      <td>0.000075</td>\n",
       "      <td>39926.590</td>\n",
       "      <td>01GNWHDQCGE1RQDP66E5MHP027</td>\n",
       "    </tr>\n",
       "    <tr>\n",
       "      <th>551</th>\n",
       "      <td>6336252500273</td>\n",
       "      <td>0.008996</td>\n",
       "      <td>0.000000</td>\n",
       "      <td>0.000000</td>\n",
       "      <td>0.0</td>\n",
       "      <td>0.0</td>\n",
       "      <td>0.0</td>\n",
       "      <td>0.000000</td>\n",
       "      <td>0.000</td>\n",
       "      <td>01GNWHDQCGE1RQDP66E5MHP027</td>\n",
       "    </tr>\n",
       "  </tbody>\n",
       "</table>\n",
       "<p>552 rows × 10 columns</p>\n",
       "</div>"
      ],
      "text/plain": [
       "             ad_id       ctr       vtr       cpcv   cr  cost_per_conversion  \\\n",
       "0    6199130066473  0.001117  0.026891   3.356353  0.0                  0.0   \n",
       "1    6232556954873  0.016404  0.389372  21.000486  0.0                  0.0   \n",
       "2    6232557343273  0.005539  0.209053  25.041800  0.0                  0.0   \n",
       "3    6234016736673  0.003920  0.158572  13.828508  0.0                  0.0   \n",
       "4    6234017085473  0.004536  0.228824   9.800079  0.0                  0.0   \n",
       "..             ...       ...       ...        ...  ...                  ...   \n",
       "547  6336249713273  0.028205  0.000000   0.000000  0.0                  0.0   \n",
       "548  6336250279073  0.022025  0.000000   0.000000  0.0                  0.0   \n",
       "549  6336251362073  0.010912  0.000000   0.000000  0.0                  0.0   \n",
       "550  6336251747073  0.022041  0.000000   0.000000  0.0                  0.0   \n",
       "551  6336252500273  0.008996  0.000000   0.000000  0.0                  0.0   \n",
       "\n",
       "     reaction_rate  comment_rate  cost_per_engagement  \\\n",
       "0              0.0      0.000000                0.000   \n",
       "1              0.0      0.000024            94908.635   \n",
       "2              0.0      0.000000                0.000   \n",
       "3              0.0      0.000000                0.000   \n",
       "4              0.0      0.000000                0.000   \n",
       "..             ...           ...                  ...   \n",
       "547            0.0      0.000026            23791.280   \n",
       "548            0.0      0.000000                0.000   \n",
       "549            0.0      0.000008            11725.860   \n",
       "550            0.0      0.000075            39926.590   \n",
       "551            0.0      0.000000                0.000   \n",
       "\n",
       "                        assetId  \n",
       "0    01GNWKENHR87JK700X6175JRTP  \n",
       "1    01GNWKENG6ZSRK6WWQWV0XCVWK  \n",
       "2    01GNWKENJGD8MER2539YBTCQVA  \n",
       "3    01GNWKENGFAS92AY9QA8WMGZ4S  \n",
       "4    01GNWKENJ2KW7MZP8Q5SS2X9B4  \n",
       "..                          ...  \n",
       "547  01GNWH8EQV0THC127XTYFQ4PE1  \n",
       "548  01GNWH8EQV0THC127XTYFQ4PE1  \n",
       "549  01GNWHDQCGE1RQDP66E5MHP027  \n",
       "550  01GNWHDQCGE1RQDP66E5MHP027  \n",
       "551  01GNWHDQCGE1RQDP66E5MHP027  \n",
       "\n",
       "[552 rows x 10 columns]"
      ]
     },
     "execution_count": 56,
     "metadata": {},
     "output_type": "execute_result"
    }
   ],
   "source": [
    "df_performance_sum"
   ]
  },
  {
   "cell_type": "code",
   "execution_count": 17,
   "metadata": {},
   "outputs": [],
   "source": [
    "df_performance_sum = df_performance.groupby('ad_id').sum(numeric_only=True).reset_index()"
   ]
  },
  {
   "cell_type": "code",
   "execution_count": 39,
   "metadata": {},
   "outputs": [
    {
     "data": {
      "text/plain": [
       "552"
      ]
     },
     "execution_count": 39,
     "metadata": {},
     "output_type": "execute_result"
    }
   ],
   "source": [
    "df_performance.ad_id.nunique()"
   ]
  },
  {
   "cell_type": "code",
   "execution_count": 36,
   "metadata": {},
   "outputs": [
    {
     "data": {
      "text/plain": [
       "(591, 1021)"
      ]
     },
     "execution_count": 36,
     "metadata": {},
     "output_type": "execute_result"
    }
   ],
   "source": [
    "df_ads.assetId.nunique(), df_ads.ad_id.nunique()"
   ]
  },
  {
   "cell_type": "code",
   "execution_count": 21,
   "metadata": {},
   "outputs": [
    {
     "name": "stderr",
     "output_type": "stream",
     "text": [
      "C:\\Users\\Xavi\\AppData\\Local\\Temp\\ipykernel_13456\\3405505069.py:6: SettingWithCopyWarning: \n",
      "A value is trying to be set on a copy of a slice from a DataFrame\n",
      "\n",
      "See the caveats in the documentation: https://pandas.pydata.org/pandas-docs/stable/user_guide/indexing.html#returning-a-view-versus-a-copy\n",
      "  df_performance_sum.assetId[i] = df_ads.assetId[j]\n"
     ]
    }
   ],
   "source": [
    "df_performance_sum['assetId'] = ''\n",
    "\n",
    "for i,id in enumerate(df_performance_sum.ad_id.values):\n",
    "    for j,id2 in enumerate(df_ads.ad_id.values):\n",
    "        if id==id2:\n",
    "            df_performance_sum.assetId[i] = df_ads.assetId[j]\n",
    "            break"
   ]
  },
  {
   "cell_type": "code",
   "execution_count": 23,
   "metadata": {},
   "outputs": [],
   "source": [
    "df_tags_branding = pd.merge(df_tags, df_branding, how='left', on='assetId')"
   ]
  },
  {
   "cell_type": "code",
   "execution_count": 24,
   "metadata": {},
   "outputs": [
    {
     "data": {
      "text/plain": [
       "(50752, 591, 50752)"
      ]
     },
     "execution_count": 24,
     "metadata": {},
     "output_type": "execute_result"
    }
   ],
   "source": [
    "len(df_tags), len(df_branding), len(df_tags_branding)"
   ]
  },
  {
   "cell_type": "code",
   "execution_count": 25,
   "metadata": {},
   "outputs": [],
   "source": [
    "df_tags_branding_performance = pd.merge(df_tags_branding, df_performance_sum, on='assetId')"
   ]
  },
  {
   "cell_type": "code",
   "execution_count": 26,
   "metadata": {},
   "outputs": [
    {
     "data": {
      "text/plain": [
       "45896"
      ]
     },
     "execution_count": 26,
     "metadata": {},
     "output_type": "execute_result"
    }
   ],
   "source": [
    "len(df_tags_branding_performance)"
   ]
  },
  {
   "cell_type": "code",
   "execution_count": 28,
   "metadata": {},
   "outputs": [
    {
     "data": {
      "text/plain": [
       "128"
      ]
     },
     "execution_count": 28,
     "metadata": {},
     "output_type": "execute_result"
    }
   ],
   "source": [
    "df_tags_branding_performance.assetId.nunique()"
   ]
  },
  {
   "cell_type": "code",
   "execution_count": 43,
   "metadata": {},
   "outputs": [
    {
     "data": {
      "text/plain": [
       "128"
      ]
     },
     "execution_count": 43,
     "metadata": {},
     "output_type": "execute_result"
    }
   ],
   "source": [
    "df_tags.loc[df_tags.assetId.isin(df_performance_sum.assetId)].assetId.nunique()"
   ]
  },
  {
   "cell_type": "code",
   "execution_count": 47,
   "metadata": {},
   "outputs": [
    {
     "data": {
      "text/plain": [
       "591"
      ]
     },
     "execution_count": 47,
     "metadata": {},
     "output_type": "execute_result"
    }
   ],
   "source": [
    "df_tags.assetId.nunique()"
   ]
  },
  {
   "cell_type": "code",
   "execution_count": null,
   "metadata": {},
   "outputs": [],
   "source": []
  },
  {
   "cell_type": "code",
   "execution_count": null,
   "metadata": {},
   "outputs": [],
   "source": []
  },
  {
   "cell_type": "code",
   "execution_count": null,
   "metadata": {},
   "outputs": [],
   "source": []
  },
  {
   "cell_type": "code",
   "execution_count": null,
   "metadata": {},
   "outputs": [],
   "source": []
  },
  {
   "attachments": {},
   "cell_type": "markdown",
   "metadata": {},
   "source": [
    "------------"
   ]
  },
  {
   "cell_type": "code",
   "execution_count": 6,
   "metadata": {},
   "outputs": [
    {
     "data": {
      "text/plain": [
       "array(['3pd_IntAff_Awareness-Care+Verano-2022_M_18+_Feed_All_Carrusel_Reach_Op/967558/1_Diciembre_2022',\n",
       "       '3pd_IntAff_Awareness-Care+Verano-2022_M_18+_Feed_All_Carrusel_Reach_Op/967558/1_Diciembre_2022',\n",
       "       '3pd_IntAff_Awareness-Care+Verano-2022_M_18+_Feed_All_Carrusel_Reach_Op/967558/1_Diciembre_2022',\n",
       "       '3pd_IntAff_Awareness-Care+Verano-2022_M_18+_Feed_All_Carrusel_Reach_Op/967558/1_Diciembre_2022'],\n",
       "      dtype=object)"
      ]
     },
     "execution_count": 6,
     "metadata": {},
     "output_type": "execute_result"
    }
   ],
   "source": [
    "df_sedal_ads.loc[df_sedal_ads.ad_id=='6336247749073'].ad_set_name.values"
   ]
  },
  {
   "cell_type": "code",
   "execution_count": 49,
   "metadata": {},
   "outputs": [
    {
     "data": {
      "text/plain": [
       "array(['1634d2107e18ba2892f730946a3cbc1e.png',\n",
       "       '19f13248b9c7c4a07e9b6ed54010926d.png',\n",
       "       '55dbf65334120b310082f73e9402bce9.png',\n",
       "       '7ec409c47a2b330befce75de63f2ff1e.png'], dtype=object)"
      ]
     },
     "execution_count": 49,
     "metadata": {},
     "output_type": "execute_result"
    }
   ],
   "source": [
    "df_sedal_ads.loc[df_sedal_ads.ad_id=='6336247749073'].ad_set_id.values"
   ]
  },
  {
   "cell_type": "code",
   "execution_count": 38,
   "metadata": {},
   "outputs": [
    {
     "data": {
      "text/plain": [
       "1021"
      ]
     },
     "execution_count": 38,
     "metadata": {},
     "output_type": "execute_result"
    }
   ],
   "source": [
    "df_sedal_ads.ad_id.nunique()"
   ]
  },
  {
   "cell_type": "code",
   "execution_count": null,
   "metadata": {},
   "outputs": [],
   "source": [
    "df_ad_performance.loc[df_ad_performance.ad_id.isin(df_sedal_ads.ad_id)]"
   ]
  }
 ],
 "metadata": {
  "kernelspec": {
   "display_name": "Python 3",
   "language": "python",
   "name": "python3"
  },
  "language_info": {
   "codemirror_mode": {
    "name": "ipython",
    "version": 3
   },
   "file_extension": ".py",
   "mimetype": "text/x-python",
   "name": "python",
   "nbconvert_exporter": "python",
   "pygments_lexer": "ipython3",
   "version": "3.10.8 (tags/v3.10.8:aaaf517, Oct 11 2022, 16:50:30) [MSC v.1933 64 bit (AMD64)]"
  },
  "orig_nbformat": 4,
  "vscode": {
   "interpreter": {
    "hash": "008ea1c7416deb5319c35da056e8e4df0a0136c7dcba106cce454dc5a7bc81e0"
   }
  }
 },
 "nbformat": 4,
 "nbformat_minor": 2
}
