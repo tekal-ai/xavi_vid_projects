{
 "cells": [
  {
   "cell_type": "code",
   "execution_count": 11,
   "metadata": {},
   "outputs": [],
   "source": [
    "# data manipulation\n",
    "import numpy as np\n",
    "import pandas as pd\n",
    "from datetime import datetime, timedelta\n",
    "from operator import add\n",
    "import os\n",
    "\n",
    "# data visualization\n",
    "import seaborn as sns;  \n",
    "import matplotlib.pyplot as plt\n",
    "sns.set()\n",
    "from scipy import stats\n",
    "colors = [\"#F472B6\", \"#94A3B8\", \"#94A3B8\", \"#10B981\", \"#F59E0B\", \"#EF4444\", \"#94A3B8\"] # color palette\n",
    "sns.set_palette(sns.color_palette(colors, 7))\n",
    "\n",
    "# machine learning\n",
    "from sklearn.linear_model import LassoCV\n",
    "\n",
    "# video and imagen visualization\n",
    "from plotly import express as px\n",
    "from PIL import Image\n",
    "import urllib.request\n",
    "from IPython.display import Video, Image"
   ]
  },
  {
   "cell_type": "code",
   "execution_count": 12,
   "metadata": {},
   "outputs": [],
   "source": [
    "import os\n",
    "os.chdir('C:/Users/Xavi/Desktop/Memorable/modules')\n",
    "import lasso_model_library as lasso\n",
    "import ca_plots as ca_plt\n",
    "\n",
    "os.chdir('C:/Users/Xavi/Desktop/Memorable/Projects/Sedal')"
   ]
  },
  {
   "cell_type": "code",
   "execution_count": 3,
   "metadata": {},
   "outputs": [],
   "source": [
    "metric = 'ctr'"
   ]
  },
  {
   "cell_type": "code",
   "execution_count": 9,
   "metadata": {},
   "outputs": [],
   "source": [
    "df_results = pd.read_csv('results/results_for_ctr.csv')"
   ]
  },
  {
   "cell_type": "code",
   "execution_count": 10,
   "metadata": {},
   "outputs": [
    {
     "data": {
      "text/html": [
       "<div>\n",
       "<style scoped>\n",
       "    .dataframe tbody tr th:only-of-type {\n",
       "        vertical-align: middle;\n",
       "    }\n",
       "\n",
       "    .dataframe tbody tr th {\n",
       "        vertical-align: top;\n",
       "    }\n",
       "\n",
       "    .dataframe thead th {\n",
       "        text-align: right;\n",
       "    }\n",
       "</style>\n",
       "<table border=\"1\" class=\"dataframe\">\n",
       "  <thead>\n",
       "    <tr style=\"text-align: right;\">\n",
       "      <th></th>\n",
       "      <th>tag</th>\n",
       "      <th>score</th>\n",
       "      <th>tag_group</th>\n",
       "      <th>usage_frequency</th>\n",
       "      <th>period</th>\n",
       "      <th>metric</th>\n",
       "    </tr>\n",
       "  </thead>\n",
       "  <tbody>\n",
       "    <tr>\n",
       "      <th>11</th>\n",
       "      <td>female</td>\n",
       "      <td>0.173032</td>\n",
       "      <td>FACE</td>\n",
       "      <td>0.626506</td>\n",
       "      <td>all</td>\n",
       "      <td>ctr</td>\n",
       "    </tr>\n",
       "  </tbody>\n",
       "</table>\n",
       "</div>"
      ],
      "text/plain": [
       "       tag     score tag_group  usage_frequency period metric\n",
       "11  female  0.173032      FACE         0.626506    all    ctr"
      ]
     },
     "execution_count": 10,
     "metadata": {},
     "output_type": "execute_result"
    }
   ],
   "source": [
    "df_results.loc[df_results.tag=='female']"
   ]
  },
  {
   "cell_type": "code",
   "execution_count": 33,
   "metadata": {},
   "outputs": [],
   "source": [
    "df = pd.read_csv(os.path.join('data/sedal_4_tables_merged.csv'))\n",
    "\n",
    "df = df.rename(columns={\n",
    "    'id':'tag_id',\n",
    "    'name':'tag_name',\n",
    "    'assetId':'asset_id',\n",
    "    'tagType':'tag_type'\n",
    "})\n",
    "\n",
    "\n",
    "df = df.rename(columns={'assetUrl':'asset_url'})\n",
    "\n",
    "for i,value in enumerate(df.confidence.values):\n",
    "    if value>1:\n",
    "        df.loc[i, 'confidence'] = value/100\n",
    "\n",
    "df = df.loc[df.confidence>0.9]\n",
    "\n",
    "df.tag_name = df.tag_name.astype(str)\n",
    "df.tag_name = df.tag_name.str.lower()\n",
    "\n",
    "#df['created_time'] = pd.to_datetime(df['created_time']).copy()\n",
    "#df['created_time'] = df['created_time'].apply(lambda x: x.date()).copy()"
   ]
  },
  {
   "cell_type": "code",
   "execution_count": 34,
   "metadata": {},
   "outputs": [],
   "source": [
    "df = df.loc[df.impressions > df.impressions.quantile(0.1)]\n",
    "\n",
    "df = df.loc[df.tag_type!='TEXT']\n",
    "df = df.loc[df.tag_type!='SUPER_NOUN']\n",
    "df = df.loc[df.tag_type!='SUPER_ADJ']\n",
    "df = df.loc[df.tag_type!='SUPER_VERB']\n",
    "df = df.loc[df.tag_type!='COLORFULNESS']\n",
    "#df = df.loc[df.tag_type!='LOGO_SPATIAL']\n",
    "#df = df.loc[df.tag_type!='LOGO']\n",
    "#df = df.loc[df.tag_type!='LOGO_TEMPORAL_PCT']\n",
    "#df = df.loc[df.tag_type!='LOGO_TEMPORAL_SEC']\n",
    "df = df.loc[df.tag_type!='BRIGHTNESS']\n",
    "\n",
    "#df = df.loc[df.tag_name!='no person']\n",
    "df = df.loc[df.tag_name!='horizontal']\n",
    "df = df.loc[df.tag_name!='vertical']\n",
    "df = df.loc[df.tag_name!='vector']"
   ]
  },
  {
   "cell_type": "code",
   "execution_count": 35,
   "metadata": {},
   "outputs": [],
   "source": [
    "df = df[['tag_id', 'asset_id', 'tag_name', 'tag_type', \n",
    "    'cpc', 'ctr', 'vtr', 'asset_url',\n",
    "    'adrecallScore', 'brandAssociationIndex']]"
   ]
  },
  {
   "cell_type": "code",
   "execution_count": 36,
   "metadata": {},
   "outputs": [],
   "source": [
    "df.to_csv('data/table_for_CMI_v2.csv', index=False)"
   ]
  },
  {
   "cell_type": "code",
   "execution_count": 27,
   "metadata": {},
   "outputs": [
    {
     "name": "stdout",
     "output_type": "stream",
     "text": [
      "68\n"
     ]
    }
   ],
   "source": [
    "tag = 'clothing'\n",
    "tagtype = 'OBJECT'\n",
    "\n",
    "df_aux = df[['asset_id', 'tag_name', 'tag_type', 'asset_url', 'ctr', 'startTimestamp', 'endTimestamp']].loc[(df.tag_name==tag) & (df.tag_type==tagtype)].drop_duplicates(subset='asset_id')\n",
    "df_aux = df_aux.sort_values(by=metric, ascending=False)\n",
    "df_aux = df_aux.reset_index(drop=True)\n",
    "#df_aux.to_csv(f'tags/{tag}_{tagtype}.csv', index=False)\n",
    "print(len(df_aux))"
   ]
  },
  {
   "cell_type": "code",
   "execution_count": 75,
   "metadata": {},
   "outputs": [],
   "source": [
    "for index_link in range(len(df_aux)):\n",
    "    link = df_aux.asset_url.values[index_link]\n",
    "    if link.__contains__('.png') or link.__contains__('.jpeg') or link.__contains__('.jpg'):\n",
    "        name = f\"Img/LRP_image_{index_link}.png\"\n",
    "        urllib.request.urlretrieve(link, name)\n",
    "        #img = Image.open(name)\n",
    "        #img.show()"
   ]
  },
  {
   "cell_type": "code",
   "execution_count": 28,
   "metadata": {},
   "outputs": [
    {
     "data": {
      "text/plain": [
       "32"
      ]
     },
     "execution_count": 28,
     "metadata": {},
     "output_type": "execute_result"
    }
   ],
   "source": [
    "df_videos = df_aux.copy()\n",
    "for url in df_aux.asset_url.values:\n",
    "    if url.__contains__('.mp4'):\n",
    "        continue\n",
    "    df_videos = df_videos.loc[df_videos.asset_url != url]\n",
    "\n",
    "\n",
    "len(df_videos)"
   ]
  },
  {
   "cell_type": "code",
   "execution_count": 37,
   "metadata": {},
   "outputs": [
    {
     "name": "stdout",
     "output_type": "stream",
     "text": [
      "https://tekal-dashboard-asset-input.s3.amazonaws.com/dashboard-active/original/01GNWKENHCB7HH3S6XZQ92FJED.mp4\n",
      "startTimestamp    00:00:02\n",
      "endTimestamp      00:00:02\n",
      "Name: 56, dtype: object\n"
     ]
    },
    {
     "data": {
      "text/html": [
       "<video src=\"https://tekal-dashboard-asset-input.s3.amazonaws.com/dashboard-active/original/01GNWKENHCB7HH3S6XZQ92FJED.mp4\" controls  width=\"320\"  height=\"500\">\n",
       "      Your browser does not support the <code>video</code> element.\n",
       "    </video>"
      ],
      "text/plain": [
       "<IPython.core.display.Video object>"
      ]
     },
     "execution_count": 37,
     "metadata": {},
     "output_type": "execute_result"
    }
   ],
   "source": [
    "index_link = 0\n",
    "link = df_videos.asset_url.values[index_link]\n",
    "print(link)\n",
    "print(df_videos[['startTimestamp', 'endTimestamp']].iloc[index_link,:])\n",
    "Video(data=link, embed=False, width=320, height=500)"
   ]
  }
 ],
 "metadata": {
  "kernelspec": {
   "display_name": "Python 3.11.0 64-bit",
   "language": "python",
   "name": "python3"
  },
  "language_info": {
   "codemirror_mode": {
    "name": "ipython",
    "version": 3
   },
   "file_extension": ".py",
   "mimetype": "text/x-python",
   "name": "python",
   "nbconvert_exporter": "python",
   "pygments_lexer": "ipython3",
   "version": "3.11.0 (main, Oct 24 2022, 18:26:48) [MSC v.1933 64 bit (AMD64)]"
  },
  "orig_nbformat": 4,
  "vscode": {
   "interpreter": {
    "hash": "05c54f09ff8740622e897cbb6153cc9cb4cff37653c49d5b37c66e9bfcc3f46a"
   }
  }
 },
 "nbformat": 4,
 "nbformat_minor": 2
}
